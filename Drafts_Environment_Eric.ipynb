{
 "cells": [
  {
   "cell_type": "code",
   "execution_count": 70,
   "metadata": {},
   "outputs": [],
   "source": [
    "import numpy as np\n",
    "import pandas as pd\n",
    "%matplotlib inline"
   ]
  },
  {
   "cell_type": "code",
   "execution_count": 3,
   "metadata": {},
   "outputs": [],
   "source": [
    "env = pd.read_csv('data/environment.csv', sep=';', header=0)"
   ]
  },
  {
   "cell_type": "code",
   "execution_count": 5,
   "metadata": {},
   "outputs": [],
   "source": [
    "env = env[['Child_Bosse','School', 'Class', 'Wave', 'GEN_FAS_computer_R', 'GEN_FAS_car_R', \n",
    "           'GEN_FAS_vacation_R', 'GEN_FAS_ownroom_R']]"
   ]
  },
  {
   "cell_type": "code",
   "execution_count": 7,
   "metadata": {},
   "outputs": [],
   "source": [
    "classes=[67, 71, 72, 74, 77, 78, 79, 81, 83, 86, 100, 101, 103, 121, \n",
    "         122, 125, 126, 127, 129, 130, 131, 133, 135, 136, 138, 139]"
   ]
  },
  {
   "cell_type": "code",
   "execution_count": 9,
   "metadata": {},
   "outputs": [],
   "source": [
    "# Get only data from the classes\n",
    "env = env[env['Class'].isin(classes)]"
   ]
  },
  {
   "cell_type": "code",
   "execution_count": 21,
   "metadata": {},
   "outputs": [
    {
     "data": {
      "text/plain": [
       "460"
      ]
     },
     "execution_count": 21,
     "metadata": {},
     "output_type": "execute_result"
    }
   ],
   "source": [
    "list_children = list(set(env.Child_Bosse))\n",
    "len(list(set(env.Child_Bosse)))"
   ]
  },
  {
   "cell_type": "markdown",
   "metadata": {},
   "source": [
    "# Verifying if all the kids have unique answers"
   ]
  },
  {
   "cell_type": "code",
   "execution_count": 41,
   "metadata": {},
   "outputs": [],
   "source": [
    "def all_same(items):\n",
    "    return all(x == items[0] for x in items)\n",
    "\n",
    "def all_nan(items):\n",
    "    return all(np.isnan(x) for x in items)"
   ]
  },
  {
   "cell_type": "code",
   "execution_count": 50,
   "metadata": {},
   "outputs": [],
   "source": [
    "# Proof that all the answers are unique\n",
    "# If it does not print anything, it means all the values are unique\n",
    "\n",
    "for child in list_children:\n",
    "    child_df = env[env.Child_Bosse == child]\n",
    "    # Test if all kids have the 4 waves\n",
    "    if len(child_df) < 4:\n",
    "        print(child, len(child_df))\n",
    "\n",
    "    # Test if all kids have same answer for class\n",
    "    class_list = list(child_df.Class)\n",
    "    if not all_same(class_list):\n",
    "        print(child, class_list)\n",
    "    \n",
    "    # Test if all kids have same answer for cars (including nan's)\n",
    "    cars_list = list(child_df.GEN_FAS_car_R)\n",
    "    if not all_same(cars_list):\n",
    "        if not all_nan(cars_list):\n",
    "            print(child, cars_list)\n",
    "    \n",
    "    # Test if all kids have same answer for computers (including nan's)\n",
    "    computers_list = list(child_df.GEN_FAS_computer_R)\n",
    "    if not all_same(computers_list):\n",
    "        if not all_nan(computers_list):\n",
    "            print(child, computers_list)\n",
    "    \n",
    "    # Test if all kids have same answer for ownroom (including nan's)\n",
    "    ownroom_list = list(child_df.GEN_FAS_ownroom_R)\n",
    "    if not all_same(ownroom_list):\n",
    "        if not all_nan(ownroom_list):\n",
    "            print(child, ownroom_list)\n",
    "            \n",
    "\n",
    "    # Test if all kids have same answer for ownroom (including nan's)\n",
    "    vacation_list = list(child_df.GEN_FAS_vacation_R)\n",
    "    if not all_same(vacation_list):\n",
    "        if not all_nan(vacation_list):\n",
    "            print(child, vacation_list)\n",
    "            "
   ]
  },
  {
   "cell_type": "markdown",
   "metadata": {},
   "source": [
    "# As all the values are unique, we take wave 1 as our unique reference."
   ]
  },
  {
   "cell_type": "code",
   "execution_count": 53,
   "metadata": {},
   "outputs": [],
   "source": [
    "env_filter = env[env.Wave==1][['Child_Bosse', 'GEN_FAS_computer_R', 'GEN_FAS_car_R', \n",
    "                               'GEN_FAS_vacation_R', 'GEN_FAS_ownroom_R']].copy()"
   ]
  },
  {
   "cell_type": "code",
   "execution_count": 55,
   "metadata": {},
   "outputs": [],
   "source": [
    "env_filter['FAS_Score_R'] = env_filter['GEN_FAS_computer_R'] + env_filter['GEN_FAS_vacation_R'] + \\\n",
    "                            env_filter['GEN_FAS_car_R']*1.5 + env_filter['GEN_FAS_ownroom_R']*3\n",
    "\n",
    "# To keep the values between 0 and 2.\n",
    "env_filter.FAS_Score_R = env_filter.FAS_Score_R/6"
   ]
  },
  {
   "cell_type": "code",
   "execution_count": 57,
   "metadata": {},
   "outputs": [],
   "source": [
    "env_filter.index = env_filter['Child_Bosse']"
   ]
  },
  {
   "cell_type": "code",
   "execution_count": 64,
   "metadata": {},
   "outputs": [
    {
     "data": {
      "text/plain": [
       "100"
      ]
     },
     "execution_count": 64,
     "metadata": {},
     "output_type": "execute_result"
    }
   ],
   "source": [
    "len(env_filter[pd.isna(env_filter.FAS_Score_R)])"
   ]
  },
  {
   "cell_type": "code",
   "execution_count": 65,
   "metadata": {},
   "outputs": [],
   "source": [
    "score = env_filter.FAS_Score_R"
   ]
  },
  {
   "cell_type": "code",
   "execution_count": 101,
   "metadata": {},
   "outputs": [
    {
     "data": {
      "text/plain": [
       "0.524074074074074"
      ]
     },
     "execution_count": 101,
     "metadata": {},
     "output_type": "execute_result"
    }
   ],
   "source": [
    "score.mean()"
   ]
  },
  {
   "cell_type": "code",
   "execution_count": 91,
   "metadata": {},
   "outputs": [
    {
     "data": {
      "text/plain": [
       "0.33460630756961773"
      ]
     },
     "execution_count": 91,
     "metadata": {},
     "output_type": "execute_result"
    }
   ],
   "source": [
    "score.std()"
   ]
  },
  {
   "cell_type": "code",
   "execution_count": 111,
   "metadata": {},
   "outputs": [
    {
     "data": {
      "text/plain": [
       "<matplotlib.axes._subplots.AxesSubplot at 0x11202d208>"
      ]
     },
     "execution_count": 111,
     "metadata": {},
     "output_type": "execute_result"
    },
    {
     "data": {
      "image/png": "[encoded data removed]",
      "text/plain": [
       "<matplotlib.figure.Figure at 0x1120e80b8>"
      ]
     },
     "metadata": {},
     "output_type": "display_data"
    }
   ],
   "source": [
    "pd.Series(np.random.normal(score.mean(), score.std(), 10000)).hist()"
   ]
  },
  {
   "cell_type": "code",
   "execution_count": 119,
   "metadata": {},
   "outputs": [],
   "source": [
    "env_dict = dict(env_filter['FAS_Score_R'])"
   ]
  },
  {
   "cell_type": "code",
   "execution_count": 120,
   "metadata": {},
   "outputs": [
    {
     "name": "stdout",
     "output_type": "stream",
     "text": [
      "963 nan 0.524074074074074\n",
      "973 nan 0.524074074074074\n",
      "982 nan 0.524074074074074\n",
      "985 nan 0.524074074074074\n",
      "1083 nan 0.524074074074074\n",
      "1098 nan 0.524074074074074\n",
      "1101 nan 0.524074074074074\n",
      "1105 nan 0.524074074074074\n",
      "1107 nan 0.524074074074074\n",
      "1119 nan 0.524074074074074\n",
      "1120 nan 0.524074074074074\n",
      "1123 nan 0.524074074074074\n",
      "1126 nan 0.524074074074074\n",
      "1134 nan 0.524074074074074\n",
      "1137 nan 0.524074074074074\n",
      "1292 nan 0.524074074074074\n",
      "1155 nan 0.524074074074074\n",
      "1157 nan 0.524074074074074\n",
      "1158 nan 0.524074074074074\n",
      "1160 nan 0.524074074074074\n",
      "1168 nan 0.524074074074074\n",
      "1278 nan 0.524074074074074\n",
      "1468 nan 0.524074074074074\n",
      "1469 nan 0.524074074074074\n",
      "1348 nan 0.524074074074074\n",
      "1355 nan 0.524074074074074\n",
      "1554 nan 0.524074074074074\n",
      "1564 nan 0.524074074074074\n",
      "2007 nan 0.524074074074074\n",
      "2010 nan 0.524074074074074\n",
      "2019 nan 0.524074074074074\n",
      "2020 nan 0.524074074074074\n",
      "2021 nan 0.524074074074074\n",
      "3058 nan 0.524074074074074\n",
      "2051 nan 0.524074074074074\n",
      "2583 nan 0.524074074074074\n",
      "2588 nan 0.524074074074074\n",
      "2590 nan 0.524074074074074\n",
      "2592 nan 0.524074074074074\n",
      "2568 nan 0.524074074074074\n",
      "2627 nan 0.524074074074074\n",
      "2628 nan 0.524074074074074\n",
      "2631 nan 0.524074074074074\n",
      "2652 nan 0.524074074074074\n",
      "2658 nan 0.524074074074074\n",
      "2662 nan 0.524074074074074\n",
      "2664 nan 0.524074074074074\n",
      "2669 nan 0.524074074074074\n",
      "2670 nan 0.524074074074074\n",
      "2671 nan 0.524074074074074\n",
      "2672 nan 0.524074074074074\n",
      "2675 nan 0.524074074074074\n",
      "2678 nan 0.524074074074074\n",
      "2680 nan 0.524074074074074\n",
      "2698 nan 0.524074074074074\n",
      "2701 nan 0.524074074074074\n",
      "2710 nan 0.524074074074074\n",
      "4625 nan 0.524074074074074\n",
      "4626 nan 0.524074074074074\n",
      "4627 nan 0.524074074074074\n",
      "4628 nan 0.524074074074074\n",
      "4629 nan 0.524074074074074\n",
      "4630 nan 0.524074074074074\n",
      "4631 nan 0.524074074074074\n",
      "2903 nan 0.524074074074074\n",
      "2906 nan 0.524074074074074\n",
      "2914 nan 0.524074074074074\n",
      "4621 nan 0.524074074074074\n",
      "4622 nan 0.524074074074074\n",
      "2711 nan 0.524074074074074\n",
      "2720 nan 0.524074074074074\n",
      "2758 nan 0.524074074074074\n",
      "2759 nan 0.524074074074074\n",
      "2760 nan 0.524074074074074\n",
      "2761 nan 0.524074074074074\n",
      "2762 nan 0.524074074074074\n",
      "2764 nan 0.524074074074074\n",
      "2765 nan 0.524074074074074\n",
      "2767 nan 0.524074074074074\n",
      "2768 nan 0.524074074074074\n",
      "2771 nan 0.524074074074074\n",
      "2773 nan 0.524074074074074\n",
      "2774 nan 0.524074074074074\n",
      "2776 nan 0.524074074074074\n",
      "2777 nan 0.524074074074074\n",
      "2778 nan 0.524074074074074\n",
      "2779 nan 0.524074074074074\n",
      "2780 nan 0.524074074074074\n",
      "2782 nan 0.524074074074074\n",
      "2783 nan 0.524074074074074\n",
      "2834 nan 0.524074074074074\n",
      "2835 nan 0.524074074074074\n",
      "2840 nan 0.524074074074074\n",
      "2844 nan 0.524074074074074\n",
      "2845 nan 0.524074074074074\n",
      "2848 nan 0.524074074074074\n",
      "2850 nan 0.524074074074074\n",
      "2852 nan 0.524074074074074\n",
      "2859 nan 0.524074074074074\n",
      "2864 nan 0.524074074074074\n"
     ]
    }
   ],
   "source": [
    "for key, value in env_dict.items():\n",
    "    if np.isnan(value):\n",
    "        env_dict[key] = env_filter.FAS_Score_R.mean()\n",
    "        print(key, value, env_dict[key])"
   ]
  },
  {
   "cell_type": "code",
   "execution_count": null,
   "metadata": {},
   "outputs": [],
   "source": []
  }
 ],
 "metadata": {
  "kernelspec": {
   "display_name": "Python 3",
   "language": "python",
   "name": "python3"
  },
  "language_info": {
   "codemirror_mode": {
    "name": "ipython",
    "version": 3
   },
   "file_extension": ".py",
   "mimetype": "text/x-python",
   "name": "python",
   "nbconvert_exporter": "python",
   "pygments_lexer": "ipython3",
   "version": "3.6.3"
  }
 },
 "nbformat": 4,
 "nbformat_minor": 2
}
