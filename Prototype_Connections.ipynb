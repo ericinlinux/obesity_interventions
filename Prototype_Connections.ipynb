{
 "cells": [
  {
   "cell_type": "markdown",
   "metadata": {},
   "source": [
    "# Prototype for the function that build up the connections.\n",
    "This is a prototype for the function *create_connections* found in the file **network.py**.\n",
    "\n",
    "This is version 0.1.\n",
    "\n",
    "The notebook does not consider the waves as different time points.\n",
    "\n",
    "#### Changes in 06/02/2018\n",
    "\n",
    "* The connections are based in 3 different setups: all questions, GEN questions and friendship question alone\n",
    "* Verifying if Wave 4 affects the results of the 3 former waves. Prioritizing the Y1 for the network. There are **NO NOMINATIONS ON W4**.\n",
    "\n",
    "**Last update:** 06/02/2018"
   ]
  },
  {
   "cell_type": "code",
   "execution_count": 1,
   "metadata": {},
   "outputs": [],
   "source": [
    "import json\n",
    "import networkx as nx\n",
    "import matplotlib.pyplot as plt\n",
    "import numpy as np\n",
    "import pandas as pd\n",
    "import os"
   ]
  },
  {
   "cell_type": "code",
   "execution_count": 2,
   "metadata": {},
   "outputs": [],
   "source": [
    "%matplotlib inline"
   ]
  },
  {
   "cell_type": "markdown",
   "metadata": {},
   "source": [
    "# Read nominations file\n",
    "Get the nominations file from the data folder. The original file was modified. The columns were changed to:\n",
    "```\n",
    "nominations.columns = ['class', 'child', 'wave', 'variable', 'class_nominated', 'nominated', 'same_class']\n",
    "```\n"
   ]
  },
  {
   "cell_type": "code",
   "execution_count": 3,
   "metadata": {},
   "outputs": [],
   "source": [
    "data_f='./data/'\n",
    "nominations = pd.read_csv(data_f+'nominations.csv', sep=';', header=0)"
   ]
  },
  {
   "cell_type": "code",
   "execution_count": 4,
   "metadata": {},
   "outputs": [
    {
     "data": {
      "text/html": [
       "<div>\n",
       "<style scoped>\n",
       "    .dataframe tbody tr th:only-of-type {\n",
       "        vertical-align: middle;\n",
       "    }\n",
       "\n",
       "    .dataframe tbody tr th {\n",
       "        vertical-align: top;\n",
       "    }\n",
       "\n",
       "    .dataframe thead th {\n",
       "        text-align: right;\n",
       "    }\n",
       "</style>\n",
       "<table border=\"1\" class=\"dataframe\">\n",
       "  <thead>\n",
       "    <tr style=\"text-align: right;\">\n",
       "      <th></th>\n",
       "      <th>class</th>\n",
       "      <th>child</th>\n",
       "      <th>wave</th>\n",
       "      <th>variable</th>\n",
       "      <th>class_nominated</th>\n",
       "      <th>nominated</th>\n",
       "      <th>same_class</th>\n",
       "    </tr>\n",
       "  </thead>\n",
       "  <tbody>\n",
       "    <tr>\n",
       "      <th>0</th>\n",
       "      <td>52</td>\n",
       "      <td>643</td>\n",
       "      <td>1</td>\n",
       "      <td>PA_Impression_Management</td>\n",
       "      <td>NaN</td>\n",
       "      <td>633</td>\n",
       "      <td>0</td>\n",
       "    </tr>\n",
       "    <tr>\n",
       "      <th>1</th>\n",
       "      <td>52</td>\n",
       "      <td>645</td>\n",
       "      <td>1</td>\n",
       "      <td>ME_Com_Network</td>\n",
       "      <td>NaN</td>\n",
       "      <td>633</td>\n",
       "      <td>0</td>\n",
       "    </tr>\n",
       "    <tr>\n",
       "      <th>2</th>\n",
       "      <td>52</td>\n",
       "      <td>645</td>\n",
       "      <td>1</td>\n",
       "      <td>GEN_Leader</td>\n",
       "      <td>NaN</td>\n",
       "      <td>633</td>\n",
       "      <td>0</td>\n",
       "    </tr>\n",
       "    <tr>\n",
       "      <th>3</th>\n",
       "      <td>52</td>\n",
       "      <td>648</td>\n",
       "      <td>1</td>\n",
       "      <td>GEN_Friendship</td>\n",
       "      <td>NaN</td>\n",
       "      <td>633</td>\n",
       "      <td>0</td>\n",
       "    </tr>\n",
       "    <tr>\n",
       "      <th>4</th>\n",
       "      <td>52</td>\n",
       "      <td>648</td>\n",
       "      <td>1</td>\n",
       "      <td>GEN_Want2B</td>\n",
       "      <td>NaN</td>\n",
       "      <td>633</td>\n",
       "      <td>0</td>\n",
       "    </tr>\n",
       "  </tbody>\n",
       "</table>\n",
       "</div>"
      ],
      "text/plain": [
       "   class  child  wave                  variable  class_nominated  nominated  \\\n",
       "0     52    643     1  PA_Impression_Management              NaN        633   \n",
       "1     52    645     1            ME_Com_Network              NaN        633   \n",
       "2     52    645     1                GEN_Leader              NaN        633   \n",
       "3     52    648     1            GEN_Friendship              NaN        633   \n",
       "4     52    648     1                GEN_Want2B              NaN        633   \n",
       "\n",
       "   same_class  \n",
       "0           0  \n",
       "1           0  \n",
       "2           0  \n",
       "3           0  \n",
       "4           0  "
      ]
     },
     "execution_count": 4,
     "metadata": {},
     "output_type": "execute_result"
    }
   ],
   "source": [
    "nominations.head()"
   ]
  },
  {
   "cell_type": "code",
   "execution_count": 5,
   "metadata": {},
   "outputs": [
    {
     "data": {
      "text/html": [
       "<div>\n",
       "<style scoped>\n",
       "    .dataframe tbody tr th:only-of-type {\n",
       "        vertical-align: middle;\n",
       "    }\n",
       "\n",
       "    .dataframe tbody tr th {\n",
       "        vertical-align: top;\n",
       "    }\n",
       "\n",
       "    .dataframe thead th {\n",
       "        text-align: right;\n",
       "    }\n",
       "</style>\n",
       "<table border=\"1\" class=\"dataframe\">\n",
       "  <thead>\n",
       "    <tr style=\"text-align: right;\">\n",
       "      <th></th>\n",
       "      <th>class</th>\n",
       "      <th>child</th>\n",
       "      <th>wave</th>\n",
       "      <th>variable</th>\n",
       "      <th>class_nominated</th>\n",
       "      <th>nominated</th>\n",
       "      <th>same_class</th>\n",
       "    </tr>\n",
       "  </thead>\n",
       "  <tbody>\n",
       "  </tbody>\n",
       "</table>\n",
       "</div>"
      ],
      "text/plain": [
       "Empty DataFrame\n",
       "Columns: [class, child, wave, variable, class_nominated, nominated, same_class]\n",
       "Index: []"
      ]
     },
     "execution_count": 5,
     "metadata": {},
     "output_type": "execute_result"
    }
   ],
   "source": [
    "nominations[nominations.wave == 4]"
   ]
  },
  {
   "cell_type": "markdown",
   "metadata": {},
   "source": [
    "# Variables present in the file\n",
    "The variables collected in this file are presented below."
   ]
  },
  {
   "cell_type": "code",
   "execution_count": 6,
   "metadata": {},
   "outputs": [
    {
     "data": {
      "text/plain": [
       "{'DI_Com_Network',\n",
       " 'DI_Impression_management',\n",
       " 'DI_Modelling',\n",
       " 'GEN_Advice',\n",
       " 'GEN_Friendship',\n",
       " 'GEN_Leader',\n",
       " 'GEN_Respect',\n",
       " 'GEN_Social_Facilitation',\n",
       " 'GEN_Want2B',\n",
       " 'ME_Com_Network',\n",
       " 'PA_Com_Network',\n",
       " 'PA_Impression_Management',\n",
       " 'PA_Modelling'}"
      ]
     },
     "execution_count": 6,
     "metadata": {},
     "output_type": "execute_result"
    }
   ],
   "source": [
    "set(nominations.variable)"
   ]
  },
  {
   "cell_type": "markdown",
   "metadata": {},
   "source": [
    "# Read the formula for the weights of each question\n",
    "The JSON file is a dictionary containing the information of which questions should be taken into consideration and how much they value for the overall calculation of the connections.\n",
    "\n",
    "max_score is the maximum weight a nomination can have. That means that if one person nominates another person in all the questions, it will reach a value of 1 for the connection strenght."
   ]
  },
  {
   "cell_type": "code",
   "execution_count": 7,
   "metadata": {},
   "outputs": [],
   "source": [
    "setups_list = ['all', 'gen', 'friendship']\n",
    "formula_list = []\n",
    "\n",
    "for setup in setups_list:\n",
    "    formula_list.append(json.loads(open(('./settings/connections_{0}.json').format(setup)).read()))"
   ]
  },
  {
   "cell_type": "code",
   "execution_count": 8,
   "metadata": {},
   "outputs": [
    {
     "data": {
      "text/plain": [
       "[{'DI_Com_Network': 1,\n",
       "  'DI_Impression_management': 1,\n",
       "  'DI_Modelling': 1,\n",
       "  'GEN_Advice': 1,\n",
       "  'GEN_Friendship': 1,\n",
       "  'GEN_Leader': 1,\n",
       "  'GEN_Respect': 1,\n",
       "  'GEN_Social_Facilitation': 1,\n",
       "  'GEN_Want2B': 1,\n",
       "  'ME_Com_Network': 1,\n",
       "  'PA_Com_Network': 1,\n",
       "  'PA_Impression_Management': 1,\n",
       "  'PA_Modelling': 1},\n",
       " {'DI_Com_Network': 0,\n",
       "  'DI_Impression_management': 0,\n",
       "  'DI_Modelling': 0,\n",
       "  'GEN_Advice': 1,\n",
       "  'GEN_Friendship': 1,\n",
       "  'GEN_Leader': 1,\n",
       "  'GEN_Respect': 1,\n",
       "  'GEN_Social_Facilitation': 1,\n",
       "  'GEN_Want2B': 1,\n",
       "  'ME_Com_Network': 0,\n",
       "  'PA_Com_Network': 0,\n",
       "  'PA_Impression_Management': 0,\n",
       "  'PA_Modelling': 0},\n",
       " {'DI_Com_Network': 0,\n",
       "  'DI_Impression_management': 0,\n",
       "  'DI_Modelling': 0,\n",
       "  'GEN_Advice': 0,\n",
       "  'GEN_Friendship': 1,\n",
       "  'GEN_Leader': 0,\n",
       "  'GEN_Respect': 0,\n",
       "  'GEN_Social_Facilitation': 0,\n",
       "  'GEN_Want2B': 0,\n",
       "  'ME_Com_Network': 0,\n",
       "  'PA_Com_Network': 0,\n",
       "  'PA_Impression_Management': 0,\n",
       "  'PA_Modelling': 0}]"
      ]
     },
     "execution_count": 8,
     "metadata": {},
     "output_type": "execute_result"
    }
   ],
   "source": [
    "formula_list"
   ]
  },
  {
   "cell_type": "code",
   "execution_count": 9,
   "metadata": {},
   "outputs": [
    {
     "data": {
      "text/plain": [
       "[13, 6, 1]"
      ]
     },
     "execution_count": 9,
     "metadata": {},
     "output_type": "execute_result"
    }
   ],
   "source": [
    "max_score_list = []\n",
    "\n",
    "for formula in formula_list:\n",
    "    max_score_list.append(sum(formula.values()))\n",
    "\n",
    "max_score_list"
   ]
  },
  {
   "cell_type": "markdown",
   "metadata": {},
   "source": [
    "# Building a dictionary of nominations\n",
    "\n",
    "The idea is to build a dictionary with the list of nominations of each child and the final weight. The final result should be something like shown below:\n",
    "\n",
    "```json\n",
    "{\n",
    "    child1: {\n",
    "            nominated1: weight1,\n",
    "            nominated2: weight2,\n",
    "            ...\n",
    "            nominatedx: weightx,\n",
    "           },\n",
    "    child2: {\n",
    "            nominated1: weight1,\n",
    "            nominated2: weight2,\n",
    "            ...\n",
    "            nominatedx: weightx,\n",
    "           },\n",
    "    ...\n",
    "    childx: {\n",
    "            nominated1: weight1,\n",
    "            nominated2: weight2,\n",
    "            ...\n",
    "            nominatedx: weightx,\n",
    "           }\n",
    "}\n",
    "```"
   ]
  },
  {
   "cell_type": "markdown",
   "metadata": {},
   "source": [
    "# List of participants\n",
    "*pp.csv* provides the list of the participants and the waves they were part of the experiment."
   ]
  },
  {
   "cell_type": "code",
   "execution_count": 10,
   "metadata": {},
   "outputs": [
    {
     "data": {
      "text/html": [
       "<div>\n",
       "<style scoped>\n",
       "    .dataframe tbody tr th:only-of-type {\n",
       "        vertical-align: middle;\n",
       "    }\n",
       "\n",
       "    .dataframe tbody tr th {\n",
       "        vertical-align: top;\n",
       "    }\n",
       "\n",
       "    .dataframe thead th {\n",
       "        text-align: right;\n",
       "    }\n",
       "</style>\n",
       "<table border=\"1\" class=\"dataframe\">\n",
       "  <thead>\n",
       "    <tr style=\"text-align: right;\">\n",
       "      <th></th>\n",
       "      <th>School</th>\n",
       "      <th>Primary</th>\n",
       "      <th>Secondary</th>\n",
       "      <th>Class_Y1</th>\n",
       "      <th>Class_Y2</th>\n",
       "      <th>Child_Bosse</th>\n",
       "      <th>parti_W1</th>\n",
       "      <th>parti_W2</th>\n",
       "      <th>parti_W3</th>\n",
       "      <th>parti_W4</th>\n",
       "    </tr>\n",
       "  </thead>\n",
       "  <tbody>\n",
       "    <tr>\n",
       "      <th>0</th>\n",
       "      <td>22</td>\n",
       "      <td>NaN</td>\n",
       "      <td>1.0</td>\n",
       "      <td>52.0</td>\n",
       "      <td>52.0</td>\n",
       "      <td>643</td>\n",
       "      <td>1</td>\n",
       "      <td>0</td>\n",
       "      <td>0</td>\n",
       "      <td>0</td>\n",
       "    </tr>\n",
       "    <tr>\n",
       "      <th>1</th>\n",
       "      <td>22</td>\n",
       "      <td>NaN</td>\n",
       "      <td>1.0</td>\n",
       "      <td>52.0</td>\n",
       "      <td>52.0</td>\n",
       "      <td>645</td>\n",
       "      <td>1</td>\n",
       "      <td>0</td>\n",
       "      <td>0</td>\n",
       "      <td>0</td>\n",
       "    </tr>\n",
       "    <tr>\n",
       "      <th>2</th>\n",
       "      <td>22</td>\n",
       "      <td>NaN</td>\n",
       "      <td>1.0</td>\n",
       "      <td>52.0</td>\n",
       "      <td>52.0</td>\n",
       "      <td>648</td>\n",
       "      <td>1</td>\n",
       "      <td>0</td>\n",
       "      <td>0</td>\n",
       "      <td>0</td>\n",
       "    </tr>\n",
       "    <tr>\n",
       "      <th>3</th>\n",
       "      <td>22</td>\n",
       "      <td>NaN</td>\n",
       "      <td>1.0</td>\n",
       "      <td>52.0</td>\n",
       "      <td>55.0</td>\n",
       "      <td>649</td>\n",
       "      <td>1</td>\n",
       "      <td>1</td>\n",
       "      <td>0</td>\n",
       "      <td>1</td>\n",
       "    </tr>\n",
       "    <tr>\n",
       "      <th>4</th>\n",
       "      <td>22</td>\n",
       "      <td>NaN</td>\n",
       "      <td>1.0</td>\n",
       "      <td>52.0</td>\n",
       "      <td>55.0</td>\n",
       "      <td>650</td>\n",
       "      <td>1</td>\n",
       "      <td>1</td>\n",
       "      <td>0</td>\n",
       "      <td>1</td>\n",
       "    </tr>\n",
       "  </tbody>\n",
       "</table>\n",
       "</div>"
      ],
      "text/plain": [
       "   School  Primary  Secondary  Class_Y1  Class_Y2  Child_Bosse  parti_W1  \\\n",
       "0      22      NaN        1.0      52.0      52.0          643         1   \n",
       "1      22      NaN        1.0      52.0      52.0          645         1   \n",
       "2      22      NaN        1.0      52.0      52.0          648         1   \n",
       "3      22      NaN        1.0      52.0      55.0          649         1   \n",
       "4      22      NaN        1.0      52.0      55.0          650         1   \n",
       "\n",
       "   parti_W2  parti_W3  parti_W4  \n",
       "0         0         0         0  \n",
       "1         0         0         0  \n",
       "2         0         0         0  \n",
       "3         1         0         1  \n",
       "4         1         0         1  "
      ]
     },
     "execution_count": 10,
     "metadata": {},
     "output_type": "execute_result"
    }
   ],
   "source": [
    "pp = pd.read_csv(data_f+'pp.csv', sep=';', header=0)\n",
    "pp.head()"
   ]
  },
  {
   "cell_type": "markdown",
   "metadata": {},
   "source": [
    "# Build empty dictionary for all the kids (953)"
   ]
  },
  {
   "cell_type": "code",
   "execution_count": 11,
   "metadata": {},
   "outputs": [],
   "source": [
    "connections_dict_all = {}\n",
    "connections_dict_gen = {}\n",
    "connections_dict_friend = {}\n",
    "\n",
    "for child in list(pp.Child_Bosse):\n",
    "    connections_dict_all[child] = {}\n",
    "    connections_dict_gen[child] = {}\n",
    "    connections_dict_friend[child] = {}"
   ]
  },
  {
   "cell_type": "markdown",
   "metadata": {},
   "source": [
    "# Create nomination list\n",
    "\n",
    "This version does not consider differences between waves. That is, Waves 1, 2 and 3 are all valid. Wave 4 does not have any information."
   ]
  },
  {
   "cell_type": "code",
   "execution_count": 12,
   "metadata": {},
   "outputs": [],
   "source": [
    "# To avoid repetition\n",
    "nominations_list = []\n",
    "\n",
    "for line in nominations[['child', 'nominated', 'variable']].iterrows():\n",
    "    (ch, nom, var) = line[1]\n",
    "    #print(ch, nom, var)\n",
    "    #print('weigh: ' , formula[var])\n",
    "\n",
    "    # Verify if nominated is in the list of participants (pp)\n",
    "    if nom in list(pp.Child_Bosse) and (ch, nom, var) not in nominations_list:\n",
    "        # Add value in the key\n",
    "        connections_dict_all[ch][nom] = connections_dict_all[ch].get(nom, 0) + 1*formula_list[0][var]\n",
    "        connections_dict_gen[ch][nom] = connections_dict_gen[ch].get(nom, 0) + 1*formula_list[1][var]\n",
    "        connections_dict_friend[ch][nom] = connections_dict_friend[ch].get(nom, 0) + 1*formula_list[2][var]\n",
    "        nominations_list.append((ch, nom, var))\n"
   ]
  },
  {
   "cell_type": "code",
   "execution_count": 13,
   "metadata": {},
   "outputs": [
    {
     "data": {
      "text/plain": [
       "array([[nan,  1.,  4., ..., nan, nan, nan],\n",
       "       [ 2., nan,  4., ..., nan, nan, nan],\n",
       "       [ 2.,  3., nan, ..., nan, nan, nan],\n",
       "       ...,\n",
       "       [nan, nan, nan, ..., nan, nan, nan],\n",
       "       [nan, nan, nan, ..., nan, nan, nan],\n",
       "       [nan, nan, nan, ..., nan, nan, nan]])"
      ]
     },
     "execution_count": 13,
     "metadata": {},
     "output_type": "execute_result"
    }
   ],
   "source": [
    "pd.DataFrame(connections_dict_all).values"
   ]
  },
  {
   "cell_type": "code",
   "execution_count": 14,
   "metadata": {},
   "outputs": [
    {
     "data": {
      "text/plain": [
       "array([[nan,  0.,  3., ..., nan, nan, nan],\n",
       "       [ 0., nan,  3., ..., nan, nan, nan],\n",
       "       [ 0.,  2., nan, ..., nan, nan, nan],\n",
       "       ...,\n",
       "       [nan, nan, nan, ..., nan, nan, nan],\n",
       "       [nan, nan, nan, ..., nan, nan, nan],\n",
       "       [nan, nan, nan, ..., nan, nan, nan]])"
      ]
     },
     "execution_count": 14,
     "metadata": {},
     "output_type": "execute_result"
    }
   ],
   "source": [
    "pd.DataFrame(connections_dict_gen).values"
   ]
  },
  {
   "cell_type": "code",
   "execution_count": 15,
   "metadata": {},
   "outputs": [
    {
     "data": {
      "text/plain": [
       "array([[nan,  0.,  1., ..., nan, nan, nan],\n",
       "       [ 0., nan,  1., ..., nan, nan, nan],\n",
       "       [ 0.,  0., nan, ..., nan, nan, nan],\n",
       "       ...,\n",
       "       [nan, nan, nan, ..., nan, nan, nan],\n",
       "       [nan, nan, nan, ..., nan, nan, nan],\n",
       "       [nan, nan, nan, ..., nan, nan, nan]])"
      ]
     },
     "execution_count": 15,
     "metadata": {},
     "output_type": "execute_result"
    }
   ],
   "source": [
    "pd.DataFrame(connections_dict_friend).values"
   ]
  },
  {
   "cell_type": "markdown",
   "metadata": {},
   "source": [
    "# Create a data frame of the connections\n",
    "\n",
    "The data frame created is 901x953. That means that not all the students have data from their nominations.\n",
    "\n",
    "The missing values receive 0, and the entire data frame is divided by the maximum score to normalize the values between 0 and 1."
   ]
  },
  {
   "cell_type": "code",
   "execution_count": 16,
   "metadata": {},
   "outputs": [],
   "source": [
    "# can be skipped if the division happens when the edges are being inserted.\n",
    "connections_all_df = pd.DataFrame(connections_dict_all).fillna(0)/max_score_list[0]\n",
    "connections_gen_df = pd.DataFrame(connections_dict_gen).fillna(0)/max_score_list[1]\n",
    "connections_friend_df = pd.DataFrame(connections_dict_friend).fillna(0)/max_score_list[2]"
   ]
  },
  {
   "cell_type": "code",
   "execution_count": 17,
   "metadata": {},
   "outputs": [
    {
     "name": "stdout",
     "output_type": "stream",
     "text": [
      "(901, 953) (901, 953) (901, 953)\n"
     ]
    }
   ],
   "source": [
    "print(connections_all_df.shape, connections_gen_df.shape, connections_friend_df.shape)"
   ]
  },
  {
   "cell_type": "code",
   "execution_count": 18,
   "metadata": {},
   "outputs": [
    {
     "data": {
      "image/png": "[encoded data removed]",
      "text/plain": [
       "<matplotlib.figure.Figure at 0x10a6e50b8>"
      ]
     },
     "metadata": {},
     "output_type": "display_data"
    }
   ],
   "source": [
    "\n",
    "plt.figure(1)\n",
    "\n",
    "plt.subplot(3,1,1)\n",
    "connections_all_df[connections_all_df > 0].count().hist(bins=27, figsize=((16,8)))\n",
    "plt.title('Histogram for all nominations')\n",
    "plt.ylabel('# of kids')\n",
    "plt.xlabel('# of nominations')\n",
    "\n",
    "plt.subplot(3,1,2)\n",
    "connections_gen_df[connections_gen_df > 0].count().hist(bins=27, figsize=((16,8)))\n",
    "plt.title('Histogram for GEN nominations')\n",
    "plt.ylabel('# of kids')\n",
    "plt.xlabel('# of nominations')\n",
    "\n",
    "plt.subplot(3,1,3)\n",
    "\n",
    "# Histogram of nominations per kid\n",
    "connections_friend_df.sum().hist(bins=27, figsize=((16,8)))\n",
    "plt.title('Histogram for Friendship nomination')\n",
    "plt.ylabel('# of kids')\n",
    "plt.xlabel('# of nominations')\n",
    "\n",
    "plt.subplots_adjust(left=None, bottom=0, right=None, top=2.0, wspace=None, hspace=None)\n"
   ]
  },
  {
   "cell_type": "code",
   "execution_count": 19,
   "metadata": {},
   "outputs": [],
   "source": [
    "# Histogram of nominations per kid\n",
    "#connections_all_df[connections_all_df > 0].count().hist(bins=27, figsize=((16,8)))\n",
    "#plt.title('Histogram for all nominations')\n",
    "#plt.ylabel('# of kids')\n",
    "#plt.xlabel('# of nominations')"
   ]
  },
  {
   "cell_type": "code",
   "execution_count": 20,
   "metadata": {},
   "outputs": [],
   "source": [
    "# Histogram of nominations per kid\n",
    "#connections_gen_df[connections_gen_df > 0].count().hist(bins=27, figsize=((16,8)))\n",
    "#plt.title('Histogram for GEN nominations')\n",
    "#plt.ylabel('# of kids')\n",
    "#plt.xlabel('# of nominations')"
   ]
  },
  {
   "cell_type": "code",
   "execution_count": 21,
   "metadata": {
    "scrolled": false
   },
   "outputs": [],
   "source": [
    "# Histogram of nominations per kid\n",
    "#connections_friend_df.sum().hist(bins=27, figsize=((16,8)))\n",
    "#plt.title('Histogram for Friendship nomination')\n",
    "#plt.ylabel('# of kids')\n",
    "#plt.xlabel('# of nominations')"
   ]
  },
  {
   "cell_type": "markdown",
   "metadata": {},
   "source": [
    "# Build graph\n",
    "The normalized data is transformed again to dictionary.\n",
    "\n",
    "The items give the values for the edges and the weight of the connections."
   ]
  },
  {
   "cell_type": "code",
   "execution_count": 22,
   "metadata": {},
   "outputs": [],
   "source": [
    "connections_all_dict = connections_all_df.to_dict()\n",
    "connections_gen_dict = connections_gen_df.to_dict()\n",
    "connections_friend_dict = connections_friend_df.to_dict()"
   ]
  },
  {
   "cell_type": "code",
   "execution_count": 23,
   "metadata": {},
   "outputs": [],
   "source": [
    "graph_all = nx.DiGraph()\n",
    "graph_gen = nx.DiGraph()\n",
    "graph_friend = nx.DiGraph()"
   ]
  },
  {
   "cell_type": "code",
   "execution_count": 24,
   "metadata": {},
   "outputs": [],
   "source": [
    "for node in connections_all_dict.items():\n",
    "    destine = node[0]\n",
    "    origins = node[1]\n",
    "    for peer, weight in origins.items():\n",
    "        if weight > 0:\n",
    "            graph_all.add_edge(peer, destine, weight=weight)\n",
    "            \n",
    "for node in connections_gen_dict.items():\n",
    "    destine = node[0]\n",
    "    origins = node[1]\n",
    "    for peer, weight in origins.items():\n",
    "        if weight > 0:\n",
    "            graph_gen.add_edge(peer, destine, weight=weight)\n",
    "            \n",
    "for node in connections_friend_dict.items():\n",
    "    destine = node[0]\n",
    "    origins = node[1]\n",
    "    for peer, weight in origins.items():\n",
    "        if weight > 0:\n",
    "            graph_friend.add_edge(peer, destine, weight=weight)"
   ]
  },
  {
   "cell_type": "code",
   "execution_count": 25,
   "metadata": {},
   "outputs": [
    {
     "name": "stdout",
     "output_type": "stream",
     "text": [
      "9154 8304 5562\n"
     ]
    }
   ],
   "source": [
    "# Number of edges in each graph\n",
    "print(len(graph_all.edges()), len(graph_gen.edges()), len(graph_friend.edges()))"
   ]
  },
  {
   "cell_type": "markdown",
   "metadata": {},
   "source": [
    "# Save information of the edges\n",
    "\n",
    "The results are saved in the file *connections.csv* in the **results** folder.\n",
    "\n",
    "The graph has 9.042 edges based on the data provided."
   ]
  },
  {
   "cell_type": "code",
   "execution_count": 26,
   "metadata": {},
   "outputs": [],
   "source": [
    "connections_all_df.to_csv('./results/connections_all.csv')\n",
    "connections_gen_df.to_csv('./results/connections_gen.csv')\n",
    "connections_friend_df.to_csv('./results/connections_friend.csv')"
   ]
  },
  {
   "cell_type": "code",
   "execution_count": null,
   "metadata": {},
   "outputs": [],
   "source": []
  }
 ],
 "metadata": {
  "kernelspec": {
   "display_name": "Python 3",
   "language": "python",
   "name": "python3"
  },
  "language_info": {
   "codemirror_mode": {
    "name": "ipython",
    "version": 3
   },
   "file_extension": ".py",
   "mimetype": "text/x-python",
   "name": "python",
   "nbconvert_exporter": "python",
   "pygments_lexer": "ipython3",
   "version": "3.6.3"
  }
 },
 "nbformat": 4,
 "nbformat_minor": 2
}
