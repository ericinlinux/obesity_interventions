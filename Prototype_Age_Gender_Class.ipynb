{
 "cells": [
  {
   "cell_type": "markdown",
   "metadata": {},
   "source": [
    "# Prototype for the function to get the background (age, sex, class)\n",
    "\n",
    "Read and interpret the data for the background of the kids.\n",
    "\n",
    "#### Changes on 06/02\n",
    "\n",
    "* To generate class, the Y1 is the basis, and not Y2.\n",
    "\n",
    "**Last update:** 06/02/2018"
   ]
  },
  {
   "cell_type": "code",
   "execution_count": 1,
   "metadata": {},
   "outputs": [],
   "source": [
    "import json\n",
    "import matplotlib.pyplot as plt\n",
    "import networkx as nx\n",
    "import numpy as np\n",
    "import pandas as pd\n",
    "import os\n",
    "import random\n",
    "import re\n",
    "%matplotlib inline"
   ]
  },
  {
   "cell_type": "markdown",
   "metadata": {},
   "source": [
    "# Demographics"
   ]
  },
  {
   "cell_type": "code",
   "execution_count": 2,
   "metadata": {},
   "outputs": [],
   "source": [
    "data_f='./data/'\n",
    "background = pd.read_csv(data_f+'background.csv', sep=';', header=0)"
   ]
  },
  {
   "cell_type": "code",
   "execution_count": 3,
   "metadata": {},
   "outputs": [
    {
     "name": "stdout",
     "output_type": "stream",
     "text": [
      "Child_Bosse\n",
      "School\n",
      "Class\n",
      "Wave\n",
      "Gender\n",
      "Age\n",
      "GEN_Background_School\n",
      "GEN_Background_Grade\n",
      "GEN_Background_Class\n",
      "GEN_Background_Sex\n",
      "GEN_Background_Age\n",
      "GEN_Background_Nationality\n",
      "GEN_Background_Mom_Nationality\n",
      "GEN_Background_Mom_Nationality_other\n",
      "GEN_Background_Dad_Nationality\n",
      "GEN_Background_Dad_Nationality_other\n",
      "GEN_Background_Older_brother\n",
      "GEN_Background_Older_sister\n",
      "GEN_Background_Younger_brother\n",
      "GEN_Background_Younger_sister\n",
      "PA_Attitude_Attitude_PA1\n",
      "PA_Attitude_Attitude_PA2\n",
      "PA_Attitude_Attitude_PA3\n",
      "PA_Attitude_mean\n",
      "PA_descript_norms_PA_descript_norm_parents\n",
      "PA_descript_norms_PA_descript_norm_friends\n",
      "PA_injunct_norms_PA_norm_expect\n",
      "PA_injunct_norms_PA_injunct_norm_parents\n",
      "PA_injunct_norms_PA_injunct_norm_friends\n",
      "PA_Intentions_PA_intentions\n",
      "PA_intentions_Pa_Previous_Wave\n",
      "PA_motivation_PA_motiv_.intrin1\n",
      "PA_motivation_PA_motiv_.extrin1\n",
      "PA_motivation_PA_motiv_.intrin2\n",
      "PA_motivation_PA_motiv_.extrin2\n",
      "PA_motivation_PA_motiv_.intrin3\n",
      "PA_motivation_PA_motiv_.intrin4\n",
      "PA_motivation_PA_motiv_.extrin3\n",
      "PA_motivation_PA_motiv_.extrin4\n",
      "PA_Motivation_intrinsic_mean\n",
      "PA_Motivation_extrinsic_mean\n",
      "PA_Self.Efficacy_PA_SE1\n",
      "PA_Self.Efficacy_PA_SE2\n",
      "PA_OBIN_PA_OBIN\n",
      "PA_OBIN_PA_OBIN_friends_descriptive\n",
      "PA_OBIN_PA_OBIN_friends_injunctive\n",
      "PA_OBIN_PA_OBIN_parents_descriptive\n",
      "PA_OBIN_PA_OBIN_parents_injunctive\n",
      "PA_Athletic_competence_goed\n",
      "PA_Athletic_competence_nieuw\n",
      "PA_Athletic_competence_team\n",
      "PA_Athletic_competence_toekijken\n",
      "PA_Athletic_competence_intresse\n",
      "PA_Athletic_competence_hekel\n",
      "PA_Athletic_competence_slecht\n",
      "PA_Athletic_competence_winnen\n",
      "PA_Athletic_competence_beste\n",
      "PA_Athletic_competence_niet_zien\n",
      "Athletic_competence_mean\n",
      "PA_Enjoyment_PA_enjoy1\n",
      "PA_Enjoyment_PA_enjoy2\n",
      "PA_Enjoyment_PA_enjoy3\n",
      "PA_Enjoyment_PA_enjoy4\n",
      "PA_Enjoyment_PA_enjoy5\n",
      "PA_Enjoyment_PA_enjoy6\n",
      "PA_Enjoyment_PA_enjoy7\n",
      "PA_Enjoyment_PA_enjoy8\n",
      "PA_Enjoyment_PA_enjoy9\n",
      "PA_Enjoyment_PA_enjoy10\n",
      "PA_Enjoyment_PA_enjoy11\n",
      "PA_Enjoyment_PA_enjoy12\n",
      "PA_Enjoyment_PA_enjoy13\n",
      "PA_Enjoyment_PA_enjoy14\n",
      "PA_Enjoyment_PA_enjoy15\n",
      "PA_Enjoyment_PA_enjoy16\n",
      "Enjoyment_mean\n",
      "PA_Perceived_Benefits_PA_ben_hope1\n",
      "PA_Perceived_Benefits_PA_ben_hope2\n",
      "PA_Perceived_Benefits_PA_ben_fear1\n",
      "PA_Perceived_Benefits_PA_ben_fear2\n",
      "PA_Perceived_Benefits_PA_ben_hope3\n",
      "PA_Perceived_Benefits_PA_ben_hope4\n",
      "PA_Perceived_Benefits_PA_ben_fear3\n",
      "PA_Perceived_Benefits_PA_ben_fear4\n",
      "Perceived_Benefits_hope_mean\n",
      "Perceived_Benefits_fear_mean\n",
      "Perceived_Benefits_mean\n",
      "PA_Self.presentation_Motives_bewonderen\n",
      "PA_Self.presentation_Motives_talent\n",
      "PA_Self.presentation_Motives_respect\n",
      "PA_Self.presentation_Motives_uitzien\n",
      "PA_Self.presentation_Motives_fit\n",
      "PA_Self.presentation_Motives_vriendelijk\n",
      "PA_Self.presentation_Motives_aardig\n",
      "PA_Self.presentation_Motives_behulpzaam\n",
      "PA_Self.presentation_Motives_samenwerken\n",
      "Self_presentation_motives_mean\n",
      "PA_support_friends_compliment\n",
      "PA_support_friends_participate\n",
      "PA_support_friends_encourage\n",
      "PA_support_friends_refuse\n",
      "PA_support_friends_remind_not_inactive\n",
      "PA_support_friends_suggest_inactive\n",
      "PA_support_friends_time_inactive\n",
      "PA_support_friends_remind_active\n",
      "PA_support_friends_offer\n",
      "Support_friends_mean\n",
      "PA_support_parents_compliment\n",
      "PA_support_parents_participate\n",
      "PA_support_parents_encourage\n",
      "PA_support_parents_refuse\n",
      "PA_support_parents_remind_not_inactive\n",
      "PA_support_parents_suggest_inactive\n",
      "PA_support_parents_time_inactive\n",
      "PA_support_parents_remind_active\n",
      "PA_support_parents_offer\n",
      "Support_parents_mean\n",
      "PA_Habit_index_PA_habit1\n",
      "PA_Habit_index_PA_habit2\n",
      "PA_Habit_index_PA_habit3\n",
      "PA_Habit_index_PA_habit4\n",
      "PA_Habit_index_PA_habit5\n",
      "PA_Habit_index_PA_habit6\n",
      "PA_Habit_index_PA_habit7\n",
      "PA_Habit_index_PA_habit8\n",
      "PA_Habit_index_PA_habit9\n",
      "PA_Habit_index_PA_habit10\n",
      "PA_Habit_index_PA_habit11\n",
      "PA_Habit_index_PA_habit12\n",
      "Habit_mean\n",
      "PA_Perceiv_comp_PA_perceived_comp1\n",
      "PA_Perceiv_comp_PA_perceived_comp2\n",
      "PA_Perceiv_comp_PA_perceived_comp3\n",
      "PA_Perceiv_comp_PA_perceived_comp4\n",
      "Perceived_Competence_mean\n"
     ]
    }
   ],
   "source": [
    "for item in background.columns:\n",
    "    print(item)"
   ]
  },
  {
   "cell_type": "markdown",
   "metadata": {},
   "source": [
    "# Age"
   ]
  },
  {
   "cell_type": "code",
   "execution_count": 4,
   "metadata": {},
   "outputs": [
    {
     "data": {
      "text/html": [
       "<div>\n",
       "<style scoped>\n",
       "    .dataframe tbody tr th:only-of-type {\n",
       "        vertical-align: middle;\n",
       "    }\n",
       "\n",
       "    .dataframe tbody tr th {\n",
       "        vertical-align: top;\n",
       "    }\n",
       "\n",
       "    .dataframe thead th {\n",
       "        text-align: right;\n",
       "    }\n",
       "</style>\n",
       "<table border=\"1\" class=\"dataframe\">\n",
       "  <thead>\n",
       "    <tr style=\"text-align: right;\">\n",
       "      <th></th>\n",
       "      <th>Child_Bosse</th>\n",
       "      <th>School</th>\n",
       "      <th>Class</th>\n",
       "      <th>Wave</th>\n",
       "      <th>Gender</th>\n",
       "      <th>Age</th>\n",
       "      <th>GEN_Background_School</th>\n",
       "      <th>GEN_Background_Grade</th>\n",
       "      <th>GEN_Background_Class</th>\n",
       "      <th>GEN_Background_Sex</th>\n",
       "      <th>...</th>\n",
       "      <th>PA_Habit_index_PA_habit9</th>\n",
       "      <th>PA_Habit_index_PA_habit10</th>\n",
       "      <th>PA_Habit_index_PA_habit11</th>\n",
       "      <th>PA_Habit_index_PA_habit12</th>\n",
       "      <th>Habit_mean</th>\n",
       "      <th>PA_Perceiv_comp_PA_perceived_comp1</th>\n",
       "      <th>PA_Perceiv_comp_PA_perceived_comp2</th>\n",
       "      <th>PA_Perceiv_comp_PA_perceived_comp3</th>\n",
       "      <th>PA_Perceiv_comp_PA_perceived_comp4</th>\n",
       "      <th>Perceived_Competence_mean</th>\n",
       "    </tr>\n",
       "  </thead>\n",
       "  <tbody>\n",
       "    <tr>\n",
       "      <th>0</th>\n",
       "      <td>643</td>\n",
       "      <td>22</td>\n",
       "      <td>52.0</td>\n",
       "      <td>1</td>\n",
       "      <td>1</td>\n",
       "      <td>13</td>\n",
       "      <td>0.0</td>\n",
       "      <td>8.0</td>\n",
       "      <td>NaN</td>\n",
       "      <td>1.0</td>\n",
       "      <td>...</td>\n",
       "      <td>NaN</td>\n",
       "      <td>NaN</td>\n",
       "      <td>NaN</td>\n",
       "      <td>NaN</td>\n",
       "      <td>NaN</td>\n",
       "      <td>NaN</td>\n",
       "      <td>NaN</td>\n",
       "      <td>NaN</td>\n",
       "      <td>NaN</td>\n",
       "      <td>NaN</td>\n",
       "    </tr>\n",
       "    <tr>\n",
       "      <th>1</th>\n",
       "      <td>643</td>\n",
       "      <td>22</td>\n",
       "      <td>52.0</td>\n",
       "      <td>2</td>\n",
       "      <td>1</td>\n",
       "      <td>13</td>\n",
       "      <td>0.0</td>\n",
       "      <td>8.0</td>\n",
       "      <td>NaN</td>\n",
       "      <td>1.0</td>\n",
       "      <td>...</td>\n",
       "      <td>NaN</td>\n",
       "      <td>NaN</td>\n",
       "      <td>NaN</td>\n",
       "      <td>NaN</td>\n",
       "      <td>NaN</td>\n",
       "      <td>NaN</td>\n",
       "      <td>NaN</td>\n",
       "      <td>NaN</td>\n",
       "      <td>NaN</td>\n",
       "      <td>NaN</td>\n",
       "    </tr>\n",
       "    <tr>\n",
       "      <th>2</th>\n",
       "      <td>643</td>\n",
       "      <td>22</td>\n",
       "      <td>52.0</td>\n",
       "      <td>3</td>\n",
       "      <td>1</td>\n",
       "      <td>13</td>\n",
       "      <td>0.0</td>\n",
       "      <td>8.0</td>\n",
       "      <td>NaN</td>\n",
       "      <td>1.0</td>\n",
       "      <td>...</td>\n",
       "      <td>NaN</td>\n",
       "      <td>NaN</td>\n",
       "      <td>NaN</td>\n",
       "      <td>NaN</td>\n",
       "      <td>NaN</td>\n",
       "      <td>NaN</td>\n",
       "      <td>NaN</td>\n",
       "      <td>NaN</td>\n",
       "      <td>NaN</td>\n",
       "      <td>NaN</td>\n",
       "    </tr>\n",
       "    <tr>\n",
       "      <th>3</th>\n",
       "      <td>643</td>\n",
       "      <td>22</td>\n",
       "      <td>52.0</td>\n",
       "      <td>4</td>\n",
       "      <td>1</td>\n",
       "      <td>13</td>\n",
       "      <td>0.0</td>\n",
       "      <td>8.0</td>\n",
       "      <td>NaN</td>\n",
       "      <td>1.0</td>\n",
       "      <td>...</td>\n",
       "      <td>NaN</td>\n",
       "      <td>NaN</td>\n",
       "      <td>NaN</td>\n",
       "      <td>NaN</td>\n",
       "      <td>NaN</td>\n",
       "      <td>NaN</td>\n",
       "      <td>NaN</td>\n",
       "      <td>NaN</td>\n",
       "      <td>NaN</td>\n",
       "      <td>NaN</td>\n",
       "    </tr>\n",
       "  </tbody>\n",
       "</table>\n",
       "<p>4 rows × 135 columns</p>\n",
       "</div>"
      ],
      "text/plain": [
       "   Child_Bosse  School  Class  Wave  Gender  Age  GEN_Background_School  \\\n",
       "0          643      22   52.0     1       1   13                    0.0   \n",
       "1          643      22   52.0     2       1   13                    0.0   \n",
       "2          643      22   52.0     3       1   13                    0.0   \n",
       "3          643      22   52.0     4       1   13                    0.0   \n",
       "\n",
       "   GEN_Background_Grade  GEN_Background_Class  GEN_Background_Sex  \\\n",
       "0                   8.0                   NaN                 1.0   \n",
       "1                   8.0                   NaN                 1.0   \n",
       "2                   8.0                   NaN                 1.0   \n",
       "3                   8.0                   NaN                 1.0   \n",
       "\n",
       "             ...              PA_Habit_index_PA_habit9  \\\n",
       "0            ...                                   NaN   \n",
       "1            ...                                   NaN   \n",
       "2            ...                                   NaN   \n",
       "3            ...                                   NaN   \n",
       "\n",
       "   PA_Habit_index_PA_habit10  PA_Habit_index_PA_habit11  \\\n",
       "0                        NaN                        NaN   \n",
       "1                        NaN                        NaN   \n",
       "2                        NaN                        NaN   \n",
       "3                        NaN                        NaN   \n",
       "\n",
       "  PA_Habit_index_PA_habit12  Habit_mean PA_Perceiv_comp_PA_perceived_comp1  \\\n",
       "0                       NaN         NaN                                NaN   \n",
       "1                       NaN         NaN                                NaN   \n",
       "2                       NaN         NaN                                NaN   \n",
       "3                       NaN         NaN                                NaN   \n",
       "\n",
       "   PA_Perceiv_comp_PA_perceived_comp2  PA_Perceiv_comp_PA_perceived_comp3  \\\n",
       "0                                 NaN                                 NaN   \n",
       "1                                 NaN                                 NaN   \n",
       "2                                 NaN                                 NaN   \n",
       "3                                 NaN                                 NaN   \n",
       "\n",
       "   PA_Perceiv_comp_PA_perceived_comp4  Perceived_Competence_mean  \n",
       "0                                 NaN                        NaN  \n",
       "1                                 NaN                        NaN  \n",
       "2                                 NaN                        NaN  \n",
       "3                                 NaN                        NaN  \n",
       "\n",
       "[4 rows x 135 columns]"
      ]
     },
     "execution_count": 4,
     "metadata": {},
     "output_type": "execute_result"
    }
   ],
   "source": [
    "background[background.Child_Bosse == 643]"
   ]
  },
  {
   "cell_type": "code",
   "execution_count": 5,
   "metadata": {},
   "outputs": [
    {
     "data": {
      "text/plain": [
       "<matplotlib.axes._subplots.AxesSubplot at 0x10f319978>"
      ]
     },
     "execution_count": 5,
     "metadata": {},
     "output_type": "execute_result"
    },
    {
     "data": {
      "image/png": "[encoded data removed]",
      "text/plain": [
       "<matplotlib.figure.Figure at 0x10f319be0>"
      ]
     },
     "metadata": {},
     "output_type": "display_data"
    }
   ],
   "source": [
    "background.Age.hist(bins=8, figsize=((14,8)))"
   ]
  },
  {
   "cell_type": "code",
   "execution_count": 6,
   "metadata": {},
   "outputs": [
    {
     "data": {
      "text/plain": [
       "<matplotlib.axes._subplots.AxesSubplot at 0x1105606a0>"
      ]
     },
     "execution_count": 6,
     "metadata": {},
     "output_type": "execute_result"
    },
    {
     "data": {
      "image/png": "[encoded data removed]",
      "text/plain": [
       "<matplotlib.figure.Figure at 0x10f6b7160>"
      ]
     },
     "metadata": {},
     "output_type": "display_data"
    }
   ],
   "source": [
    "fig, axes = plt.subplots(nrows=2, ncols=2)\n",
    "\n",
    "# df1.plot(ax=axes[0,0])\n",
    "# df2.plot(ax=axes[0,1])\n",
    "\n",
    "\n",
    "background[background.Wave == 1].Age.hist(bins=8, ax=axes[0,0], figsize=((14,8)))\n",
    "background[background.Wave == 2].Age.hist(bins=8, ax=axes[0,1], figsize=((14,8)))\n",
    "background[background.Wave == 3].Age.hist(bins=8, ax=axes[1,0], figsize=((14,8)))\n",
    "background[background.Wave == 4].Age.hist(bins=8, ax=axes[1,1], figsize=((14,8)))\n",
    "\n"
   ]
  },
  {
   "cell_type": "markdown",
   "metadata": {},
   "source": [
    "# Class"
   ]
  },
  {
   "cell_type": "code",
   "execution_count": 7,
   "metadata": {},
   "outputs": [
    {
     "data": {
      "text/html": [
       "<div>\n",
       "<style scoped>\n",
       "    .dataframe tbody tr th:only-of-type {\n",
       "        vertical-align: middle;\n",
       "    }\n",
       "\n",
       "    .dataframe tbody tr th {\n",
       "        vertical-align: top;\n",
       "    }\n",
       "\n",
       "    .dataframe thead th {\n",
       "        text-align: right;\n",
       "    }\n",
       "</style>\n",
       "<table border=\"1\" class=\"dataframe\">\n",
       "  <thead>\n",
       "    <tr style=\"text-align: right;\">\n",
       "      <th></th>\n",
       "      <th>Child_Bosse</th>\n",
       "      <th>School</th>\n",
       "      <th>Class</th>\n",
       "      <th>Wave</th>\n",
       "      <th>Gender</th>\n",
       "      <th>Age</th>\n",
       "      <th>GEN_Background_School</th>\n",
       "      <th>GEN_Background_Grade</th>\n",
       "      <th>GEN_Background_Class</th>\n",
       "      <th>GEN_Background_Sex</th>\n",
       "      <th>...</th>\n",
       "      <th>PA_Habit_index_PA_habit9</th>\n",
       "      <th>PA_Habit_index_PA_habit10</th>\n",
       "      <th>PA_Habit_index_PA_habit11</th>\n",
       "      <th>PA_Habit_index_PA_habit12</th>\n",
       "      <th>Habit_mean</th>\n",
       "      <th>PA_Perceiv_comp_PA_perceived_comp1</th>\n",
       "      <th>PA_Perceiv_comp_PA_perceived_comp2</th>\n",
       "      <th>PA_Perceiv_comp_PA_perceived_comp3</th>\n",
       "      <th>PA_Perceiv_comp_PA_perceived_comp4</th>\n",
       "      <th>Perceived_Competence_mean</th>\n",
       "    </tr>\n",
       "  </thead>\n",
       "  <tbody>\n",
       "    <tr>\n",
       "      <th>0</th>\n",
       "      <td>643</td>\n",
       "      <td>22</td>\n",
       "      <td>52.0</td>\n",
       "      <td>1</td>\n",
       "      <td>1</td>\n",
       "      <td>13</td>\n",
       "      <td>0.0</td>\n",
       "      <td>8.0</td>\n",
       "      <td>NaN</td>\n",
       "      <td>1.0</td>\n",
       "      <td>...</td>\n",
       "      <td>NaN</td>\n",
       "      <td>NaN</td>\n",
       "      <td>NaN</td>\n",
       "      <td>NaN</td>\n",
       "      <td>NaN</td>\n",
       "      <td>NaN</td>\n",
       "      <td>NaN</td>\n",
       "      <td>NaN</td>\n",
       "      <td>NaN</td>\n",
       "      <td>NaN</td>\n",
       "    </tr>\n",
       "    <tr>\n",
       "      <th>1</th>\n",
       "      <td>643</td>\n",
       "      <td>22</td>\n",
       "      <td>52.0</td>\n",
       "      <td>2</td>\n",
       "      <td>1</td>\n",
       "      <td>13</td>\n",
       "      <td>0.0</td>\n",
       "      <td>8.0</td>\n",
       "      <td>NaN</td>\n",
       "      <td>1.0</td>\n",
       "      <td>...</td>\n",
       "      <td>NaN</td>\n",
       "      <td>NaN</td>\n",
       "      <td>NaN</td>\n",
       "      <td>NaN</td>\n",
       "      <td>NaN</td>\n",
       "      <td>NaN</td>\n",
       "      <td>NaN</td>\n",
       "      <td>NaN</td>\n",
       "      <td>NaN</td>\n",
       "      <td>NaN</td>\n",
       "    </tr>\n",
       "    <tr>\n",
       "      <th>2</th>\n",
       "      <td>643</td>\n",
       "      <td>22</td>\n",
       "      <td>52.0</td>\n",
       "      <td>3</td>\n",
       "      <td>1</td>\n",
       "      <td>13</td>\n",
       "      <td>0.0</td>\n",
       "      <td>8.0</td>\n",
       "      <td>NaN</td>\n",
       "      <td>1.0</td>\n",
       "      <td>...</td>\n",
       "      <td>NaN</td>\n",
       "      <td>NaN</td>\n",
       "      <td>NaN</td>\n",
       "      <td>NaN</td>\n",
       "      <td>NaN</td>\n",
       "      <td>NaN</td>\n",
       "      <td>NaN</td>\n",
       "      <td>NaN</td>\n",
       "      <td>NaN</td>\n",
       "      <td>NaN</td>\n",
       "    </tr>\n",
       "    <tr>\n",
       "      <th>3</th>\n",
       "      <td>643</td>\n",
       "      <td>22</td>\n",
       "      <td>52.0</td>\n",
       "      <td>4</td>\n",
       "      <td>1</td>\n",
       "      <td>13</td>\n",
       "      <td>0.0</td>\n",
       "      <td>8.0</td>\n",
       "      <td>NaN</td>\n",
       "      <td>1.0</td>\n",
       "      <td>...</td>\n",
       "      <td>NaN</td>\n",
       "      <td>NaN</td>\n",
       "      <td>NaN</td>\n",
       "      <td>NaN</td>\n",
       "      <td>NaN</td>\n",
       "      <td>NaN</td>\n",
       "      <td>NaN</td>\n",
       "      <td>NaN</td>\n",
       "      <td>NaN</td>\n",
       "      <td>NaN</td>\n",
       "    </tr>\n",
       "  </tbody>\n",
       "</table>\n",
       "<p>4 rows × 135 columns</p>\n",
       "</div>"
      ],
      "text/plain": [
       "   Child_Bosse  School  Class  Wave  Gender  Age  GEN_Background_School  \\\n",
       "0          643      22   52.0     1       1   13                    0.0   \n",
       "1          643      22   52.0     2       1   13                    0.0   \n",
       "2          643      22   52.0     3       1   13                    0.0   \n",
       "3          643      22   52.0     4       1   13                    0.0   \n",
       "\n",
       "   GEN_Background_Grade  GEN_Background_Class  GEN_Background_Sex  \\\n",
       "0                   8.0                   NaN                 1.0   \n",
       "1                   8.0                   NaN                 1.0   \n",
       "2                   8.0                   NaN                 1.0   \n",
       "3                   8.0                   NaN                 1.0   \n",
       "\n",
       "             ...              PA_Habit_index_PA_habit9  \\\n",
       "0            ...                                   NaN   \n",
       "1            ...                                   NaN   \n",
       "2            ...                                   NaN   \n",
       "3            ...                                   NaN   \n",
       "\n",
       "   PA_Habit_index_PA_habit10  PA_Habit_index_PA_habit11  \\\n",
       "0                        NaN                        NaN   \n",
       "1                        NaN                        NaN   \n",
       "2                        NaN                        NaN   \n",
       "3                        NaN                        NaN   \n",
       "\n",
       "  PA_Habit_index_PA_habit12  Habit_mean PA_Perceiv_comp_PA_perceived_comp1  \\\n",
       "0                       NaN         NaN                                NaN   \n",
       "1                       NaN         NaN                                NaN   \n",
       "2                       NaN         NaN                                NaN   \n",
       "3                       NaN         NaN                                NaN   \n",
       "\n",
       "   PA_Perceiv_comp_PA_perceived_comp2  PA_Perceiv_comp_PA_perceived_comp3  \\\n",
       "0                                 NaN                                 NaN   \n",
       "1                                 NaN                                 NaN   \n",
       "2                                 NaN                                 NaN   \n",
       "3                                 NaN                                 NaN   \n",
       "\n",
       "   PA_Perceiv_comp_PA_perceived_comp4  Perceived_Competence_mean  \n",
       "0                                 NaN                        NaN  \n",
       "1                                 NaN                        NaN  \n",
       "2                                 NaN                        NaN  \n",
       "3                                 NaN                        NaN  \n",
       "\n",
       "[4 rows x 135 columns]"
      ]
     },
     "execution_count": 7,
     "metadata": {},
     "output_type": "execute_result"
    }
   ],
   "source": [
    "background[background.Child_Bosse == 643]"
   ]
  },
  {
   "cell_type": "code",
   "execution_count": 8,
   "metadata": {},
   "outputs": [],
   "source": [
    "pp = pd.read_csv(data_f+'pp.csv', sep=';', header=0)\n",
    "list_participants = list(set(pp.Child_Bosse))"
   ]
  },
  {
   "cell_type": "code",
   "execution_count": 9,
   "metadata": {},
   "outputs": [
    {
     "data": {
      "text/html": [
       "<div>\n",
       "<style scoped>\n",
       "    .dataframe tbody tr th:only-of-type {\n",
       "        vertical-align: middle;\n",
       "    }\n",
       "\n",
       "    .dataframe tbody tr th {\n",
       "        vertical-align: top;\n",
       "    }\n",
       "\n",
       "    .dataframe thead th {\n",
       "        text-align: right;\n",
       "    }\n",
       "</style>\n",
       "<table border=\"1\" class=\"dataframe\">\n",
       "  <thead>\n",
       "    <tr style=\"text-align: right;\">\n",
       "      <th></th>\n",
       "      <th>School</th>\n",
       "      <th>Primary</th>\n",
       "      <th>Secondary</th>\n",
       "      <th>Class_Y1</th>\n",
       "      <th>Class_Y2</th>\n",
       "      <th>Child_Bosse</th>\n",
       "      <th>parti_W1</th>\n",
       "      <th>parti_W2</th>\n",
       "      <th>parti_W3</th>\n",
       "      <th>parti_W4</th>\n",
       "    </tr>\n",
       "  </thead>\n",
       "  <tbody>\n",
       "    <tr>\n",
       "      <th>0</th>\n",
       "      <td>22</td>\n",
       "      <td>NaN</td>\n",
       "      <td>1.0</td>\n",
       "      <td>52.0</td>\n",
       "      <td>52.0</td>\n",
       "      <td>643</td>\n",
       "      <td>1</td>\n",
       "      <td>0</td>\n",
       "      <td>0</td>\n",
       "      <td>0</td>\n",
       "    </tr>\n",
       "    <tr>\n",
       "      <th>1</th>\n",
       "      <td>22</td>\n",
       "      <td>NaN</td>\n",
       "      <td>1.0</td>\n",
       "      <td>52.0</td>\n",
       "      <td>52.0</td>\n",
       "      <td>645</td>\n",
       "      <td>1</td>\n",
       "      <td>0</td>\n",
       "      <td>0</td>\n",
       "      <td>0</td>\n",
       "    </tr>\n",
       "    <tr>\n",
       "      <th>2</th>\n",
       "      <td>22</td>\n",
       "      <td>NaN</td>\n",
       "      <td>1.0</td>\n",
       "      <td>52.0</td>\n",
       "      <td>52.0</td>\n",
       "      <td>648</td>\n",
       "      <td>1</td>\n",
       "      <td>0</td>\n",
       "      <td>0</td>\n",
       "      <td>0</td>\n",
       "    </tr>\n",
       "    <tr>\n",
       "      <th>3</th>\n",
       "      <td>22</td>\n",
       "      <td>NaN</td>\n",
       "      <td>1.0</td>\n",
       "      <td>52.0</td>\n",
       "      <td>55.0</td>\n",
       "      <td>649</td>\n",
       "      <td>1</td>\n",
       "      <td>1</td>\n",
       "      <td>0</td>\n",
       "      <td>1</td>\n",
       "    </tr>\n",
       "    <tr>\n",
       "      <th>4</th>\n",
       "      <td>22</td>\n",
       "      <td>NaN</td>\n",
       "      <td>1.0</td>\n",
       "      <td>52.0</td>\n",
       "      <td>55.0</td>\n",
       "      <td>650</td>\n",
       "      <td>1</td>\n",
       "      <td>1</td>\n",
       "      <td>0</td>\n",
       "      <td>1</td>\n",
       "    </tr>\n",
       "  </tbody>\n",
       "</table>\n",
       "</div>"
      ],
      "text/plain": [
       "   School  Primary  Secondary  Class_Y1  Class_Y2  Child_Bosse  parti_W1  \\\n",
       "0      22      NaN        1.0      52.0      52.0          643         1   \n",
       "1      22      NaN        1.0      52.0      52.0          645         1   \n",
       "2      22      NaN        1.0      52.0      52.0          648         1   \n",
       "3      22      NaN        1.0      52.0      55.0          649         1   \n",
       "4      22      NaN        1.0      52.0      55.0          650         1   \n",
       "\n",
       "   parti_W2  parti_W3  parti_W4  \n",
       "0         0         0         0  \n",
       "1         0         0         0  \n",
       "2         0         0         0  \n",
       "3         1         0         1  \n",
       "4         1         0         1  "
      ]
     },
     "execution_count": 9,
     "metadata": {},
     "output_type": "execute_result"
    }
   ],
   "source": [
    "pp.head()"
   ]
  },
  {
   "cell_type": "code",
   "execution_count": 10,
   "metadata": {},
   "outputs": [
    {
     "data": {
      "text/plain": [
       "(218, 10)"
      ]
     },
     "execution_count": 10,
     "metadata": {},
     "output_type": "execute_result"
    }
   ],
   "source": [
    "# How many kids changed class from Y1 to Y2\n",
    "pp[(pp.Class_Y1 != pp.Class_Y2) & (~pd.isna(pp.Class_Y2))].shape"
   ]
  },
  {
   "cell_type": "code",
   "execution_count": 11,
   "metadata": {},
   "outputs": [
    {
     "data": {
      "text/plain": [
       "(239, 10)"
      ]
     },
     "execution_count": 11,
     "metadata": {},
     "output_type": "execute_result"
    }
   ],
   "source": [
    "pp[(pp.Class_Y1 != pp.Class_Y2)].shape"
   ]
  },
  {
   "cell_type": "code",
   "execution_count": 12,
   "metadata": {},
   "outputs": [
    {
     "data": {
      "text/plain": [
       "(714, 10)"
      ]
     },
     "execution_count": 12,
     "metadata": {},
     "output_type": "execute_result"
    }
   ],
   "source": [
    "# How many kids did not changed class from Y1 to Y2\n",
    "pp[(pp.Class_Y1 == pp.Class_Y2) & (~pd.isna(pp.Class_Y1))].shape"
   ]
  },
  {
   "cell_type": "code",
   "execution_count": 13,
   "metadata": {},
   "outputs": [
    {
     "data": {
      "text/plain": [
       "(21, 10)"
      ]
     },
     "execution_count": 13,
     "metadata": {},
     "output_type": "execute_result"
    }
   ],
   "source": [
    "pp[pd.isna(pp.Class_Y2)].shape"
   ]
  },
  {
   "cell_type": "markdown",
   "metadata": {},
   "source": [
    "* 21 kids with NA Class for Y2\n",
    "* 218 kids with different classes from Y1 to Y2\n",
    "* 714 kids with same class from Y1 to Y2\n",
    "* TOTAL: 953"
   ]
  },
  {
   "cell_type": "code",
   "execution_count": 14,
   "metadata": {},
   "outputs": [
    {
     "data": {
      "text/plain": [
       "953"
      ]
     },
     "execution_count": 14,
     "metadata": {},
     "output_type": "execute_result"
    }
   ],
   "source": [
    "21+218+714"
   ]
  },
  {
   "cell_type": "code",
   "execution_count": 15,
   "metadata": {},
   "outputs": [
    {
     "data": {
      "text/plain": [
       "(26, 10)"
      ]
     },
     "execution_count": 15,
     "metadata": {},
     "output_type": "execute_result"
    }
   ],
   "source": [
    "# For Y1, 26 missing data points.\n",
    "pp[pd.isna(pp.Class_Y1)].shape"
   ]
  },
  {
   "cell_type": "code",
   "execution_count": 16,
   "metadata": {},
   "outputs": [
    {
     "data": {
      "text/plain": [
       "(0, 10)"
      ]
     },
     "execution_count": 16,
     "metadata": {},
     "output_type": "execute_result"
    }
   ],
   "source": [
    "# Is the NaN data from Y1 present in Y2?\n",
    "# No missing data for both years.\n",
    "pp[(pd.isna(pp.Class_Y1)) & (pd.isna(pp.Class_Y2))].shape"
   ]
  },
  {
   "cell_type": "markdown",
   "metadata": {},
   "source": [
    "# Creating Class data"
   ]
  },
  {
   "cell_type": "code",
   "execution_count": 17,
   "metadata": {},
   "outputs": [],
   "source": [
    "pp['Class'] = pp.Class_Y1"
   ]
  },
  {
   "cell_type": "code",
   "execution_count": 18,
   "metadata": {},
   "outputs": [],
   "source": [
    "# Fill the missing data at Class column with the data from Y1.\n",
    "pp.Class.fillna(pp.Class_Y2, inplace=True)"
   ]
  },
  {
   "cell_type": "code",
   "execution_count": 19,
   "metadata": {},
   "outputs": [
    {
     "data": {
      "text/html": [
       "<div>\n",
       "<style scoped>\n",
       "    .dataframe tbody tr th:only-of-type {\n",
       "        vertical-align: middle;\n",
       "    }\n",
       "\n",
       "    .dataframe tbody tr th {\n",
       "        vertical-align: top;\n",
       "    }\n",
       "\n",
       "    .dataframe thead th {\n",
       "        text-align: right;\n",
       "    }\n",
       "</style>\n",
       "<table border=\"1\" class=\"dataframe\">\n",
       "  <thead>\n",
       "    <tr style=\"text-align: right;\">\n",
       "      <th></th>\n",
       "      <th>School</th>\n",
       "      <th>Primary</th>\n",
       "      <th>Secondary</th>\n",
       "      <th>Class_Y1</th>\n",
       "      <th>Class_Y2</th>\n",
       "      <th>Child_Bosse</th>\n",
       "      <th>parti_W1</th>\n",
       "      <th>parti_W2</th>\n",
       "      <th>parti_W3</th>\n",
       "      <th>parti_W4</th>\n",
       "      <th>Class</th>\n",
       "    </tr>\n",
       "  </thead>\n",
       "  <tbody>\n",
       "  </tbody>\n",
       "</table>\n",
       "</div>"
      ],
      "text/plain": [
       "Empty DataFrame\n",
       "Columns: [School, Primary, Secondary, Class_Y1, Class_Y2, Child_Bosse, parti_W1, parti_W2, parti_W3, parti_W4, Class]\n",
       "Index: []"
      ]
     },
     "execution_count": 19,
     "metadata": {},
     "output_type": "execute_result"
    }
   ],
   "source": [
    "pp[pd.isna(pp.Class)]"
   ]
  },
  {
   "cell_type": "code",
   "execution_count": 20,
   "metadata": {},
   "outputs": [],
   "source": [
    "pp.index = pp.Child_Bosse"
   ]
  },
  {
   "cell_type": "code",
   "execution_count": 21,
   "metadata": {},
   "outputs": [
    {
     "data": {
      "text/html": [
       "<div>\n",
       "<style scoped>\n",
       "    .dataframe tbody tr th:only-of-type {\n",
       "        vertical-align: middle;\n",
       "    }\n",
       "\n",
       "    .dataframe tbody tr th {\n",
       "        vertical-align: top;\n",
       "    }\n",
       "\n",
       "    .dataframe thead th {\n",
       "        text-align: right;\n",
       "    }\n",
       "</style>\n",
       "<table border=\"1\" class=\"dataframe\">\n",
       "  <thead>\n",
       "    <tr style=\"text-align: right;\">\n",
       "      <th></th>\n",
       "      <th>School</th>\n",
       "      <th>Primary</th>\n",
       "      <th>Secondary</th>\n",
       "      <th>Class_Y1</th>\n",
       "      <th>Class_Y2</th>\n",
       "      <th>Child_Bosse</th>\n",
       "      <th>parti_W1</th>\n",
       "      <th>parti_W2</th>\n",
       "      <th>parti_W3</th>\n",
       "      <th>parti_W4</th>\n",
       "      <th>Class</th>\n",
       "    </tr>\n",
       "    <tr>\n",
       "      <th>Child_Bosse</th>\n",
       "      <th></th>\n",
       "      <th></th>\n",
       "      <th></th>\n",
       "      <th></th>\n",
       "      <th></th>\n",
       "      <th></th>\n",
       "      <th></th>\n",
       "      <th></th>\n",
       "      <th></th>\n",
       "      <th></th>\n",
       "      <th></th>\n",
       "    </tr>\n",
       "  </thead>\n",
       "  <tbody>\n",
       "    <tr>\n",
       "      <th>2110</th>\n",
       "      <td>35</td>\n",
       "      <td>NaN</td>\n",
       "      <td>1.0</td>\n",
       "      <td>NaN</td>\n",
       "      <td>208.0</td>\n",
       "      <td>2110</td>\n",
       "      <td>1</td>\n",
       "      <td>1</td>\n",
       "      <td>1</td>\n",
       "      <td>1</td>\n",
       "      <td>208.0</td>\n",
       "    </tr>\n",
       "    <tr>\n",
       "      <th>2141</th>\n",
       "      <td>35</td>\n",
       "      <td>NaN</td>\n",
       "      <td>1.0</td>\n",
       "      <td>NaN</td>\n",
       "      <td>208.0</td>\n",
       "      <td>2141</td>\n",
       "      <td>1</td>\n",
       "      <td>1</td>\n",
       "      <td>1</td>\n",
       "      <td>1</td>\n",
       "      <td>208.0</td>\n",
       "    </tr>\n",
       "    <tr>\n",
       "      <th>2142</th>\n",
       "      <td>35</td>\n",
       "      <td>NaN</td>\n",
       "      <td>1.0</td>\n",
       "      <td>NaN</td>\n",
       "      <td>208.0</td>\n",
       "      <td>2142</td>\n",
       "      <td>1</td>\n",
       "      <td>1</td>\n",
       "      <td>1</td>\n",
       "      <td>1</td>\n",
       "      <td>208.0</td>\n",
       "    </tr>\n",
       "    <tr>\n",
       "      <th>2159</th>\n",
       "      <td>35</td>\n",
       "      <td>NaN</td>\n",
       "      <td>1.0</td>\n",
       "      <td>NaN</td>\n",
       "      <td>208.0</td>\n",
       "      <td>2159</td>\n",
       "      <td>1</td>\n",
       "      <td>1</td>\n",
       "      <td>1</td>\n",
       "      <td>1</td>\n",
       "      <td>208.0</td>\n",
       "    </tr>\n",
       "    <tr>\n",
       "      <th>2194</th>\n",
       "      <td>35</td>\n",
       "      <td>NaN</td>\n",
       "      <td>1.0</td>\n",
       "      <td>NaN</td>\n",
       "      <td>208.0</td>\n",
       "      <td>2194</td>\n",
       "      <td>1</td>\n",
       "      <td>1</td>\n",
       "      <td>1</td>\n",
       "      <td>1</td>\n",
       "      <td>208.0</td>\n",
       "    </tr>\n",
       "  </tbody>\n",
       "</table>\n",
       "</div>"
      ],
      "text/plain": [
       "             School  Primary  Secondary  Class_Y1  Class_Y2  Child_Bosse  \\\n",
       "Child_Bosse                                                                \n",
       "2110             35      NaN        1.0       NaN     208.0         2110   \n",
       "2141             35      NaN        1.0       NaN     208.0         2141   \n",
       "2142             35      NaN        1.0       NaN     208.0         2142   \n",
       "2159             35      NaN        1.0       NaN     208.0         2159   \n",
       "2194             35      NaN        1.0       NaN     208.0         2194   \n",
       "\n",
       "             parti_W1  parti_W2  parti_W3  parti_W4  Class  \n",
       "Child_Bosse                                                 \n",
       "2110                1         1         1         1  208.0  \n",
       "2141                1         1         1         1  208.0  \n",
       "2142                1         1         1         1  208.0  \n",
       "2159                1         1         1         1  208.0  \n",
       "2194                1         1         1         1  208.0  "
      ]
     },
     "execution_count": 21,
     "metadata": {},
     "output_type": "execute_result"
    }
   ],
   "source": [
    "pp[pd.isna(pp.Class_Y1)].head()"
   ]
  },
  {
   "cell_type": "markdown",
   "metadata": {},
   "source": [
    "# Sex"
   ]
  },
  {
   "cell_type": "code",
   "execution_count": 22,
   "metadata": {},
   "outputs": [
    {
     "data": {
      "text/html": [
       "<div>\n",
       "<style scoped>\n",
       "    .dataframe tbody tr th:only-of-type {\n",
       "        vertical-align: middle;\n",
       "    }\n",
       "\n",
       "    .dataframe tbody tr th {\n",
       "        vertical-align: top;\n",
       "    }\n",
       "\n",
       "    .dataframe thead th {\n",
       "        text-align: right;\n",
       "    }\n",
       "</style>\n",
       "<table border=\"1\" class=\"dataframe\">\n",
       "  <thead>\n",
       "    <tr style=\"text-align: right;\">\n",
       "      <th></th>\n",
       "      <th>Child_Bosse</th>\n",
       "      <th>School</th>\n",
       "      <th>Class</th>\n",
       "      <th>Wave</th>\n",
       "      <th>Gender</th>\n",
       "      <th>Age</th>\n",
       "      <th>GEN_Background_School</th>\n",
       "      <th>GEN_Background_Grade</th>\n",
       "      <th>GEN_Background_Class</th>\n",
       "      <th>GEN_Background_Sex</th>\n",
       "      <th>...</th>\n",
       "      <th>PA_Habit_index_PA_habit9</th>\n",
       "      <th>PA_Habit_index_PA_habit10</th>\n",
       "      <th>PA_Habit_index_PA_habit11</th>\n",
       "      <th>PA_Habit_index_PA_habit12</th>\n",
       "      <th>Habit_mean</th>\n",
       "      <th>PA_Perceiv_comp_PA_perceived_comp1</th>\n",
       "      <th>PA_Perceiv_comp_PA_perceived_comp2</th>\n",
       "      <th>PA_Perceiv_comp_PA_perceived_comp3</th>\n",
       "      <th>PA_Perceiv_comp_PA_perceived_comp4</th>\n",
       "      <th>Perceived_Competence_mean</th>\n",
       "    </tr>\n",
       "  </thead>\n",
       "  <tbody>\n",
       "  </tbody>\n",
       "</table>\n",
       "<p>0 rows × 135 columns</p>\n",
       "</div>"
      ],
      "text/plain": [
       "Empty DataFrame\n",
       "Columns: [Child_Bosse, School, Class, Wave, Gender, Age, GEN_Background_School, GEN_Background_Grade, GEN_Background_Class, GEN_Background_Sex, GEN_Background_Age, GEN_Background_Nationality, GEN_Background_Mom_Nationality, GEN_Background_Mom_Nationality_other, GEN_Background_Dad_Nationality, GEN_Background_Dad_Nationality_other, GEN_Background_Older_brother, GEN_Background_Older_sister, GEN_Background_Younger_brother, GEN_Background_Younger_sister, PA_Attitude_Attitude_PA1, PA_Attitude_Attitude_PA2, PA_Attitude_Attitude_PA3, PA_Attitude_mean, PA_descript_norms_PA_descript_norm_parents, PA_descript_norms_PA_descript_norm_friends, PA_injunct_norms_PA_norm_expect, PA_injunct_norms_PA_injunct_norm_parents, PA_injunct_norms_PA_injunct_norm_friends, PA_Intentions_PA_intentions, PA_intentions_Pa_Previous_Wave, PA_motivation_PA_motiv_.intrin1, PA_motivation_PA_motiv_.extrin1, PA_motivation_PA_motiv_.intrin2, PA_motivation_PA_motiv_.extrin2, PA_motivation_PA_motiv_.intrin3, PA_motivation_PA_motiv_.intrin4, PA_motivation_PA_motiv_.extrin3, PA_motivation_PA_motiv_.extrin4, PA_Motivation_intrinsic_mean, PA_Motivation_extrinsic_mean, PA_Self.Efficacy_PA_SE1, PA_Self.Efficacy_PA_SE2, PA_OBIN_PA_OBIN, PA_OBIN_PA_OBIN_friends_descriptive, PA_OBIN_PA_OBIN_friends_injunctive, PA_OBIN_PA_OBIN_parents_descriptive, PA_OBIN_PA_OBIN_parents_injunctive, PA_Athletic_competence_goed, PA_Athletic_competence_nieuw, PA_Athletic_competence_team, PA_Athletic_competence_toekijken, PA_Athletic_competence_intresse, PA_Athletic_competence_hekel, PA_Athletic_competence_slecht, PA_Athletic_competence_winnen, PA_Athletic_competence_beste, PA_Athletic_competence_niet_zien, Athletic_competence_mean, PA_Enjoyment_PA_enjoy1, PA_Enjoyment_PA_enjoy2, PA_Enjoyment_PA_enjoy3, PA_Enjoyment_PA_enjoy4, PA_Enjoyment_PA_enjoy5, PA_Enjoyment_PA_enjoy6, PA_Enjoyment_PA_enjoy7, PA_Enjoyment_PA_enjoy8, PA_Enjoyment_PA_enjoy9, PA_Enjoyment_PA_enjoy10, PA_Enjoyment_PA_enjoy11, PA_Enjoyment_PA_enjoy12, PA_Enjoyment_PA_enjoy13, PA_Enjoyment_PA_enjoy14, PA_Enjoyment_PA_enjoy15, PA_Enjoyment_PA_enjoy16, Enjoyment_mean, PA_Perceived_Benefits_PA_ben_hope1, PA_Perceived_Benefits_PA_ben_hope2, PA_Perceived_Benefits_PA_ben_fear1, PA_Perceived_Benefits_PA_ben_fear2, PA_Perceived_Benefits_PA_ben_hope3, PA_Perceived_Benefits_PA_ben_hope4, PA_Perceived_Benefits_PA_ben_fear3, PA_Perceived_Benefits_PA_ben_fear4, Perceived_Benefits_hope_mean, Perceived_Benefits_fear_mean, Perceived_Benefits_mean, PA_Self.presentation_Motives_bewonderen, PA_Self.presentation_Motives_talent, PA_Self.presentation_Motives_respect, PA_Self.presentation_Motives_uitzien, PA_Self.presentation_Motives_fit, PA_Self.presentation_Motives_vriendelijk, PA_Self.presentation_Motives_aardig, PA_Self.presentation_Motives_behulpzaam, PA_Self.presentation_Motives_samenwerken, Self_presentation_motives_mean, PA_support_friends_compliment, PA_support_friends_participate, PA_support_friends_encourage, ...]\n",
       "Index: []\n",
       "\n",
       "[0 rows x 135 columns]"
      ]
     },
     "execution_count": 22,
     "metadata": {},
     "output_type": "execute_result"
    }
   ],
   "source": [
    "background[pd.isna(background.Gender)]"
   ]
  },
  {
   "cell_type": "markdown",
   "metadata": {},
   "source": [
    "No missing data for gender."
   ]
  },
  {
   "cell_type": "code",
   "execution_count": 23,
   "metadata": {},
   "outputs": [],
   "source": [
    "gender_df = background.groupby(['Child_Bosse']).mean()['Gender']"
   ]
  },
  {
   "cell_type": "code",
   "execution_count": 24,
   "metadata": {},
   "outputs": [
    {
     "data": {
      "text/plain": [
       "(953,)"
      ]
     },
     "execution_count": 24,
     "metadata": {},
     "output_type": "execute_result"
    }
   ],
   "source": [
    "gender_df.shape"
   ]
  },
  {
   "cell_type": "code",
   "execution_count": null,
   "metadata": {},
   "outputs": [],
   "source": []
  }
 ],
 "metadata": {
  "kernelspec": {
   "display_name": "Python 3",
   "language": "python",
   "name": "python3"
  },
  "language_info": {
   "codemirror_mode": {
    "name": "ipython",
    "version": 3
   },
   "file_extension": ".py",
   "mimetype": "text/x-python",
   "name": "python",
   "nbconvert_exporter": "python",
   "pygments_lexer": "ipython3",
   "version": "3.6.3"
  }
 },
 "nbformat": 4,
 "nbformat_minor": 2
}
