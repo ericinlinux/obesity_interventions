{
 "cells": [
  {
   "cell_type": "code",
   "execution_count": 1,
   "metadata": {},
   "outputs": [],
   "source": [
    "from codes.network import create_connections"
   ]
  },
  {
   "cell_type": "code",
   "execution_count": 2,
   "metadata": {},
   "outputs": [],
   "source": [
    "import networkx as nx\n",
    "import numpy as np"
   ]
  },
  {
   "cell_type": "code",
   "execution_count": 3,
   "metadata": {},
   "outputs": [],
   "source": [
    "%load_ext autoreload\n",
    "%autoreload 2\n",
    "%matplotlib inline"
   ]
  },
  {
   "cell_type": "code",
   "execution_count": 4,
   "metadata": {},
   "outputs": [],
   "source": [
    "graph=nx.DiGraph()\n",
    "\n",
    "G = create_connections(graph=graph, level_f='./')"
   ]
  },
  {
   "cell_type": "code",
   "execution_count": 5,
   "metadata": {},
   "outputs": [],
   "source": [
    "graph2 = nx.DiGraph()\n",
    "G2 = create_connections(graph=graph2, level_f='./', label='all')"
   ]
  },
  {
   "cell_type": "code",
   "execution_count": 6,
   "metadata": {},
   "outputs": [],
   "source": [
    "graph3 = nx.DiGraph()\n",
    "G3 = create_connections(graph=graph3, level_f='./', label='friend')"
   ]
  },
  {
   "cell_type": "code",
   "execution_count": 7,
   "metadata": {},
   "outputs": [],
   "source": [
    "graph4 = nx.DiGraph()\n",
    "G4 = create_connections(graph=graph4, level_f='./', label='gen')"
   ]
  },
  {
   "cell_type": "code",
   "execution_count": 8,
   "metadata": {},
   "outputs": [],
   "source": [
    "graph5 = nx.DiGraph()\n",
    "\n",
    "formula_s = '{ \\\n",
    "    \"DI_Com_Network\": 1, \\\n",
    "    \"DI_Impression_management\": 0, \\\n",
    "    \"DI_Modelling\": 0, \\\n",
    "    \"GEN_Advice\": 0.5, \\\n",
    "    \"GEN_Friendship\": 1, \\\n",
    "    \"GEN_Leader\": 1, \\\n",
    "    \"GEN_Respect\": 1, \\\n",
    "    \"GEN_Social_Facilitation\": 1, \\\n",
    "    \"GEN_Want2B\": 1, \\\n",
    "    \"ME_Com_Network\": 0, \\\n",
    "    \"PA_Com_Network\": 1, \\\n",
    "    \"PA_Impression_Management\": 0, \\\n",
    "    \"PA_Modelling\": 0.3 }'\n",
    "G5 = create_connections(graph=graph5, level_f='./', label='customized', formula_s=formula_s)"
   ]
  },
  {
   "cell_type": "code",
   "execution_count": null,
   "metadata": {},
   "outputs": [],
   "source": []
  }
 ],
 "metadata": {
  "kernelspec": {
   "display_name": "Python 3",
   "language": "python",
   "name": "python3"
  },
  "language_info": {
   "codemirror_mode": {
    "name": "ipython",
    "version": 3
   },
   "file_extension": ".py",
   "mimetype": "text/x-python",
   "name": "python",
   "nbconvert_exporter": "python",
   "pygments_lexer": "ipython3",
   "version": "3.6.3"
  }
 },
 "nbformat": 4,
 "nbformat_minor": 2
}
