{
 "cells": [
  {
   "cell_type": "markdown",
   "metadata": {},
   "source": [
    "# Test for the connections\n",
    "\n",
    "On 12th February - changed the analysis to populate the nodes informations."
   ]
  },
  {
   "cell_type": "code",
   "execution_count": 1,
   "metadata": {},
   "outputs": [],
   "source": [
    "from codes.network import generate_network"
   ]
  },
  {
   "cell_type": "code",
   "execution_count": 2,
   "metadata": {},
   "outputs": [],
   "source": [
    "import collections\n",
    "import matplotlib.pyplot as plt\n",
    "import networkx as nx\n",
    "import numpy as np\n",
    "import pandas as pd\n",
    "from scipy import stats, spatial"
   ]
  },
  {
   "cell_type": "code",
   "execution_count": 3,
   "metadata": {},
   "outputs": [],
   "source": [
    "%load_ext autoreload\n",
    "%autoreload 2\n",
    "%matplotlib inline"
   ]
  },
  {
   "cell_type": "code",
   "execution_count": 4,
   "metadata": {},
   "outputs": [
    {
     "name": "stdout",
     "output_type": "stream",
     "text": [
      "Create connections...\n",
      "Nodes after connections: # 906\n",
      "Edges created #:  9154\n",
      "\n",
      "Create agents...\n",
      "PA\n",
      "gender\n",
      "age\n",
      "class\n",
      "bmi\n",
      "height\n",
      "weight\n",
      "Removing nodes not in the specified classes...\n",
      "Nodes removed for not being in the selected classes: # 455\n",
      "Nodes removed for not having data for BMI: # 16\n",
      "Nodes remaining after removal: # 435\n",
      "Edges remaining after removal #:  5744\n",
      "###############################################################\n",
      "Graph generated successfuly!\n",
      "###############################################################\n",
      "\n"
     ]
    }
   ],
   "source": [
    "G_all = generate_network(level_f='./', label='all')\n",
    "#G_all = nx.DiGraph()\n",
    "#create_connections(graph=G_all, level_f='./', label='all')\n",
    "#create_agents(graph=G_all, level_f='./')\n",
    "#remove_nodes(graph=G_all, level_f='./')\n",
    "#print('Nodes remaining after removal: #', len(G_all.nodes()))\n",
    "#print('Edges remaining after removal #: ', len(G_all.edges()))"
   ]
  },
  {
   "cell_type": "code",
   "execution_count": 5,
   "metadata": {},
   "outputs": [
    {
     "name": "stdout",
     "output_type": "stream",
     "text": [
      "Create connections...\n",
      "Nodes after connections: # 905\n",
      "Edges created #:  8304\n",
      "\n",
      "Create agents...\n",
      "PA\n",
      "gender\n",
      "age\n",
      "class\n",
      "bmi\n",
      "height\n",
      "weight\n",
      "Removing nodes not in the specified classes...\n",
      "Nodes removed for not being in the selected classes: # 454\n",
      "Nodes removed for not having data for BMI: # 16\n",
      "Nodes remaining after removal: # 435\n",
      "Edges remaining after removal #:  5245\n",
      "###############################################################\n",
      "Graph generated successfuly!\n",
      "###############################################################\n",
      "\n"
     ]
    }
   ],
   "source": [
    "G_gen = generate_network(level_f='./', label='gen')\n",
    "#G_gen = nx.DiGraph()\n",
    "#create_connections(graph=G_gen, level_f='./', label='gen')\n",
    "#create_agents(graph=G_gen, level_f='./')\n",
    "#remove_nodes(graph=G_gen, level_f='./')\n",
    "#print('Nodes remaining after removal: #', len(G_gen.nodes()))\n",
    "#print('Edges remaining after removal #: ', len(G_gen.edges()))"
   ]
  },
  {
   "cell_type": "code",
   "execution_count": 6,
   "metadata": {},
   "outputs": [
    {
     "name": "stdout",
     "output_type": "stream",
     "text": [
      "Create connections...\n",
      "Nodes after connections: # 897\n",
      "Edges created #:  5562\n",
      "\n",
      "Create agents...\n",
      "PA\n",
      "gender\n",
      "age\n",
      "class\n",
      "bmi\n",
      "height\n",
      "weight\n",
      "Removing nodes not in the specified classes...\n",
      "Nodes removed for not being in the selected classes: # 446\n",
      "Nodes removed for not having data for BMI: # 16\n",
      "Nodes remaining after removal: # 435\n",
      "Edges remaining after removal #:  3533\n",
      "###############################################################\n",
      "Graph generated successfuly!\n",
      "###############################################################\n",
      "\n"
     ]
    }
   ],
   "source": [
    "G_friend = generate_network(level_f='./', label='friend')\n",
    "#G_friend = nx.DiGraph()\n",
    "#create_connections(graph=G_friend, level_f='./', label='friend')\n",
    "#create_agents(graph=G_friend, level_f='./')\n",
    "#remove_nodes(graph=G_friend, level_f='./')\n",
    "#print('Nodes remaining after removal: #', len(G_friend.nodes()))\n",
    "#print('Edges remaining after removal #: ', len(G_friend.edges()))"
   ]
  },
  {
   "cell_type": "code",
   "execution_count": 74,
   "metadata": {},
   "outputs": [
    {
     "data": {
      "text/plain": [
       "(435, 435, 435)"
      ]
     },
     "execution_count": 74,
     "metadata": {},
     "output_type": "execute_result"
    }
   ],
   "source": [
    "# All the nodes are present in all the three graphs\n",
    "len(set(G_all.nodes()).intersection(G_gen.nodes())), len(set(G_all.nodes()).intersection(G_friend.nodes())), \\\n",
    "    len(set(G_friend.nodes()).intersection(G_gen.nodes()))"
   ]
  },
  {
   "cell_type": "code",
   "execution_count": 75,
   "metadata": {},
   "outputs": [
    {
     "data": {
      "text/plain": [
       "(0, 0, 0)"
      ]
     },
     "execution_count": 75,
     "metadata": {},
     "output_type": "execute_result"
    }
   ],
   "source": [
    "len(set(G_all.nodes()).difference(G_gen.nodes())), len(set(G_all.nodes()).difference(G_friend.nodes())), \\\n",
    "    len(set(G_friend.nodes()).difference(G_gen.nodes()))"
   ]
  },
  {
   "cell_type": "code",
   "execution_count": null,
   "metadata": {},
   "outputs": [],
   "source": [
    "# graph5 = nx.DiGraph()\n",
    "\n",
    "# formula_s = '{ \\\n",
    "#     \"DI_Com_Network\": 1, \\\n",
    "#     \"DI_Impression_management\": 0, \\\n",
    "#     \"DI_Modelling\": 0, \\\n",
    "#     \"GEN_Advice\": 0.5, \\\n",
    "#     \"GEN_Friendship\": 1, \\\n",
    "#     \"GEN_Leader\": 1, \\\n",
    "#     \"GEN_Respect\": 1, \\\n",
    "#     \"GEN_Social_Facilitation\": 1, \\\n",
    "#     \"GEN_Want2B\": 1, \\\n",
    "#     \"ME_Com_Network\": 0, \\\n",
    "#     \"PA_Com_Network\": 1, \\\n",
    "#     \"PA_Impression_Management\": 0, \\\n",
    "#     \"PA_Modelling\": 0.3 }'\n",
    "# G5 = create_connections(graph=graph5, level_f='./', label='customized', formula_s=formula_s)"
   ]
  },
  {
   "cell_type": "markdown",
   "metadata": {},
   "source": [
    "# Measurements for the graphs"
   ]
  },
  {
   "cell_type": "markdown",
   "metadata": {},
   "source": [
    "### Degree distribution histogram"
   ]
  },
  {
   "cell_type": "code",
   "execution_count": 57,
   "metadata": {},
   "outputs": [
    {
     "data": {
      "text/plain": [
       "<matplotlib.legend.Legend at 0x1163ca518>"
      ]
     },
     "execution_count": 57,
     "metadata": {},
     "output_type": "execute_result"
    },
    {
     "data": {
      "image/png": "[encoded data removed]",
      "text/plain": [
       "<matplotlib.figure.Figure at 0x1171e8240>"
      ]
     },
     "metadata": {},
     "output_type": "display_data"
    }
   ],
   "source": [
    "degree_sequence_all = sorted([d for n, d in G_all.out_degree()], reverse=True)  # degree sequence\n",
    "degree_sequence_friend = sorted([d for n, d in G_friend.out_degree()], reverse=True)  # degree sequence\n",
    "degree_sequence_gen = sorted([d for n, d in G_gen.out_degree()], reverse=True)  # degree sequence\n",
    "\n",
    "degreeCount_all = collections.Counter(degree_sequence_all)\n",
    "degreeCount_friend = collections.Counter(degree_sequence_friend)\n",
    "degreeCount_gen = collections.Counter(degree_sequence_gen)\n",
    "\n",
    "deg_all, cnt_all = zip(*degreeCount_all.items())\n",
    "deg_friend, cnt_friend = zip(*degreeCount_friend.items())\n",
    "deg_gen, cnt_gen = zip(*degreeCount_gen.items())\n",
    "\n",
    "fig, ax = plt.subplots(figsize=((14,8)))\n",
    "\n",
    "width = 0.25\n",
    "x_all = [x-width for x in deg_all]\n",
    "x_gen = [x for x in deg_gen]\n",
    "x_friend = [x+width for x in deg_friend]\n",
    "\n",
    "#plt.bar(list(deg_all), cnt_all, width=0.80, color='b', alpha=0.5)\n",
    "ax.bar(x_all, cnt_all, width=width,color='b',align='center', label='All')\n",
    "ax.bar(x_gen, cnt_gen, width=width,color='g',align='center', label='Gen')\n",
    "ax.bar(x_friend, cnt_friend, width=width,color='r',align='center', label='Friend')\n",
    "#plt.bar(list(deg_gen), cnt_gen, width=0.80, color='r', alpha=0.5)\n",
    "\n",
    "plt.title(\"Degree Histogram\")\n",
    "plt.ylabel(\"Count\")\n",
    "plt.xlabel(\"Degree\")\n",
    "plt.xticks(range(28))\n",
    "plt.legend()\n",
    "\n"
   ]
  },
  {
   "cell_type": "code",
   "execution_count": 60,
   "metadata": {},
   "outputs": [],
   "source": [
    "dist_all, _ = np.histogram(degree_sequence_all, bins=np.arange(28))\n",
    "dist_gen, _ = np.histogram(degree_sequence_gen, bins=np.arange(28))\n",
    "dist_friend, _ = np.histogram(degree_sequence_friend, bins=np.arange(28))"
   ]
  },
  {
   "cell_type": "code",
   "execution_count": 62,
   "metadata": {},
   "outputs": [
    {
     "data": {
      "text/plain": [
       "(array([ 0,  0,  0,  0,  0,  2, 12, 17, 16, 31, 23, 35, 57, 67, 50, 41, 30,\n",
       "        17,  6,  3,  0,  0,  0,  1,  5,  7, 15]),\n",
       " array([ 0,  1,  2,  3,  4,  5,  6,  7,  8,  9, 10, 11, 12, 13, 14, 15, 16,\n",
       "        17, 18, 19, 20, 21, 22, 23, 24, 25, 26, 27]))"
      ]
     },
     "execution_count": 62,
     "metadata": {},
     "output_type": "execute_result"
    }
   ],
   "source": [
    "np.histogram(degree_sequence_all, bins=np.arange(28))"
   ]
  },
  {
   "cell_type": "code",
   "execution_count": 63,
   "metadata": {},
   "outputs": [
    {
     "data": {
      "text/plain": [
       "(0.8555656456080973, 1.2956699707564492e-08)"
      ]
     },
     "execution_count": 63,
     "metadata": {},
     "output_type": "execute_result"
    }
   ],
   "source": [
    "stats.pearsonr(dist_all, dist_gen)"
   ]
  },
  {
   "cell_type": "code",
   "execution_count": 64,
   "metadata": {},
   "outputs": [
    {
     "data": {
      "text/plain": [
       "<matplotlib.collections.PathCollection at 0x113bed278>"
      ]
     },
     "execution_count": 64,
     "metadata": {},
     "output_type": "execute_result"
    },
    {
     "data": {
      "image/png": "[encoded data removed]",
      "text/plain": [
       "<matplotlib.figure.Figure at 0x116c80eb8>"
      ]
     },
     "metadata": {},
     "output_type": "display_data"
    }
   ],
   "source": [
    "plt.scatter(dist_all, dist_gen)"
   ]
  },
  {
   "cell_type": "code",
   "execution_count": 65,
   "metadata": {},
   "outputs": [
    {
     "data": {
      "text/plain": [
       "(0.1230164602852648, 0.541004552837999)"
      ]
     },
     "execution_count": 65,
     "metadata": {},
     "output_type": "execute_result"
    }
   ],
   "source": [
    "stats.pearsonr(dist_all, dist_friend)"
   ]
  },
  {
   "cell_type": "code",
   "execution_count": 66,
   "metadata": {},
   "outputs": [
    {
     "data": {
      "text/plain": [
       "<matplotlib.collections.PathCollection at 0x1127dcef0>"
      ]
     },
     "execution_count": 66,
     "metadata": {},
     "output_type": "execute_result"
    },
    {
     "data": {
      "image/png": "[encoded data removed]",
      "text/plain": [
       "<matplotlib.figure.Figure at 0x116c76748>"
      ]
     },
     "metadata": {},
     "output_type": "display_data"
    }
   ],
   "source": [
    "plt.scatter(dist_all, dist_friend)"
   ]
  },
  {
   "cell_type": "code",
   "execution_count": 67,
   "metadata": {},
   "outputs": [
    {
     "data": {
      "text/plain": [
       "(0.43136157037423584, 0.02466890436432335)"
      ]
     },
     "execution_count": 67,
     "metadata": {},
     "output_type": "execute_result"
    }
   ],
   "source": [
    "stats.pearsonr(dist_friend, dist_gen)"
   ]
  },
  {
   "cell_type": "code",
   "execution_count": 68,
   "metadata": {},
   "outputs": [
    {
     "data": {
      "text/plain": [
       "<matplotlib.collections.PathCollection at 0x117911080>"
      ]
     },
     "execution_count": 68,
     "metadata": {},
     "output_type": "execute_result"
    },
    {
     "data": {
      "image/png": "[encoded data removed]",
      "text/plain": [
       "<matplotlib.figure.Figure at 0x116c8b2b0>"
      ]
     },
     "metadata": {},
     "output_type": "display_data"
    }
   ],
   "source": [
    "plt.scatter(dist_friend, dist_gen)"
   ]
  },
  {
   "cell_type": "markdown",
   "metadata": {},
   "source": [
    "## Clusters characteristics"
   ]
  },
  {
   "cell_type": "code",
   "execution_count": 69,
   "metadata": {},
   "outputs": [],
   "source": [
    "clusters_all = list(nx.strongly_connected_component_subgraphs(G_all))\n",
    "clusters_gen = list(nx.strongly_connected_component_subgraphs(G_gen))\n",
    "clusters_friends = list(nx.strongly_connected_component_subgraphs(G_friend))"
   ]
  },
  {
   "cell_type": "code",
   "execution_count": 71,
   "metadata": {},
   "outputs": [
    {
     "data": {
      "text/plain": [
       "(31, 31, 40)"
      ]
     },
     "execution_count": 71,
     "metadata": {},
     "output_type": "execute_result"
    }
   ],
   "source": [
    "len(clusters_all), len(clusters_gen), len(clusters_friends)"
   ]
  },
  {
   "cell_type": "code",
   "execution_count": 72,
   "metadata": {},
   "outputs": [
    {
     "data": {
      "text/plain": [
       "26"
      ]
     },
     "execution_count": 72,
     "metadata": {},
     "output_type": "execute_result"
    }
   ],
   "source": [
    "len([67, 71, 72, 74, 77, 78, 79, 81, 83, 86, 100, 101, 103, 121, 122, 125, 126, 127, 129, 130, 131, 133, 135, 136, 138, 139])"
   ]
  },
  {
   "cell_type": "code",
   "execution_count": 85,
   "metadata": {},
   "outputs": [],
   "source": [
    "# Create a dictionary. Keys are the classes, and the values are list of students\n",
    "class_list = [67, 71, 72, 74, 77, 78, 79, 81, 83, 86, 100, 101, 103, 121, 122, 125, 126, 127, 129, 130, 131, 133, 135, 136, 138, 139]\n",
    "class_dictionary = {}\n",
    "for c in class_list:\n",
    "    class_dictionary[c] = []\n",
    "\n",
    "for node, key in G_all.nodes.data('class'):\n",
    "    class_dictionary[int(key)].append(node)"
   ]
  },
  {
   "cell_type": "code",
   "execution_count": 89,
   "metadata": {},
   "outputs": [
    {
     "data": {
      "text/plain": [
       "dict_keys([67, 71, 72, 74, 77, 78, 79, 81, 83, 86, 100, 101, 103, 121, 122, 125, 126, 127, 129, 130, 131, 133, 135, 136, 138, 139])"
      ]
     },
     "execution_count": 89,
     "metadata": {},
     "output_type": "execute_result"
    }
   ],
   "source": [
    "# Clusters are classes.\n",
    "class_dictionary.keys()"
   ]
  },
  {
   "cell_type": "code",
   "execution_count": 98,
   "metadata": {},
   "outputs": [],
   "source": [
    "# Get the subgraph for each cluster\n",
    "graphs_all_list = {}\n",
    "graphs_gen_list = {}\n",
    "graphs_friend_list = {}\n",
    "\n",
    "for c in class_list:\n",
    "    graphs_all_list[c] = G_all.subgraph(class_dictionary[c])\n",
    "    graphs_gen_list[c] = G_gen.subgraph(class_dictionary[c])\n",
    "    graphs_friend_list[c] = G_friend.subgraph(class_dictionary[c])"
   ]
  },
  {
   "cell_type": "code",
   "execution_count": 102,
   "metadata": {},
   "outputs": [
    {
     "data": {
      "text/plain": [
       "(<networkx.classes.graphviews.SubDiGraph at 0x1152f86a0>,\n",
       " <networkx.classes.graphviews.SubDiGraph at 0x1152f8748>,\n",
       " <networkx.classes.graphviews.SubDiGraph at 0x1152f8128>)"
      ]
     },
     "execution_count": 102,
     "metadata": {},
     "output_type": "execute_result"
    }
   ],
   "source": [
    "graphs_all_list[67], graphs_gen_list[67], graphs_friend_list[67]"
   ]
  },
  {
   "cell_type": "code",
   "execution_count": 129,
   "metadata": {},
   "outputs": [
    {
     "name": "stdout",
     "output_type": "stream",
     "text": [
      "Number of nodes\n",
      "--------------------------------\n",
      "Class\t # All\t # Gen\t # Friend\n",
      "--------------------------------\n",
      "67 \t 18 \t 18 \t 18\n",
      "71 \t 20 \t 20 \t 20\n",
      "72 \t 17 \t 17 \t 17\n",
      "74 \t 11 \t 11 \t 11\n",
      "77 \t 19 \t 19 \t 19\n",
      "78 \t 20 \t 20 \t 20\n",
      "79 \t 25 \t 25 \t 25\n",
      "81 \t 28 \t 28 \t 28\n",
      "83 \t 14 \t 14 \t 14\n",
      "86 \t 15 \t 15 \t 15\n",
      "100 \t 18 \t 18 \t 18\n",
      "101 \t 18 \t 18 \t 18\n",
      "103 \t 17 \t 17 \t 17\n",
      "121 \t 12 \t 12 \t 12\n",
      "122 \t 11 \t 11 \t 11\n",
      "125 \t 16 \t 16 \t 16\n",
      "126 \t 10 \t 10 \t 10\n",
      "127 \t 13 \t 13 \t 13\n",
      "129 \t 8 \t 8 \t 8\n",
      "130 \t 21 \t 21 \t 21\n",
      "131 \t 11 \t 11 \t 11\n",
      "133 \t 19 \t 19 \t 19\n",
      "135 \t 18 \t 18 \t 18\n",
      "136 \t 18 \t 18 \t 18\n",
      "138 \t 20 \t 20 \t 20\n",
      "139 \t 18 \t 18 \t 18\n",
      "--------------------------------\n"
     ]
    }
   ],
   "source": [
    "# Number of nodes in each cluster for each set of questions\n",
    "print('Number of nodes')\n",
    "print('--------------------------------')\n",
    "print('Class\\t # All\\t # Gen\\t # Friend')\n",
    "print('--------------------------------')\n",
    "for c in class_list:\n",
    "    print(c, '\\t', graphs_all_list[c].number_of_nodes(), '\\t', graphs_gen_list[c].number_of_nodes(), \n",
    "          '\\t', graphs_friend_list[c].number_of_nodes())\n",
    "print('--------------------------------')"
   ]
  },
  {
   "cell_type": "code",
   "execution_count": 130,
   "metadata": {},
   "outputs": [
    {
     "name": "stdout",
     "output_type": "stream",
     "text": [
      "Number of edges\n",
      "--------------------------------\n",
      "Class\t # All\t # Gen\t # Friend\n",
      "--------------------------------\n",
      "67 \t 231 \t 205 \t 138\n",
      "71 \t 269 \t 247 \t 112\n",
      "72 \t 218 \t 180 \t 93\n",
      "74 \t 95 \t 93 \t 76\n",
      "77 \t 245 \t 223 \t 164\n",
      "78 \t 320 \t 303 \t 221\n",
      "79 \t 303 \t 275 \t 183\n",
      "81 \t 717 \t 663 \t 484\n",
      "83 \t 159 \t 142 \t 110\n",
      "86 \t 167 \t 166 \t 146\n",
      "100 \t 265 \t 255 \t 163\n",
      "101 \t 232 \t 205 \t 161\n",
      "103 \t 243 \t 221 \t 171\n",
      "121 \t 96 \t 90 \t 56\n",
      "122 \t 92 \t 84 \t 55\n",
      "125 \t 195 \t 186 \t 136\n",
      "126 \t 80 \t 80 \t 65\n",
      "127 \t 119 \t 108 \t 72\n",
      "129 \t 54 \t 51 \t 36\n",
      "130 \t 305 \t 259 \t 136\n",
      "131 \t 85 \t 70 \t 44\n",
      "133 \t 231 \t 201 \t 132\n",
      "135 \t 279 \t 272 \t 189\n",
      "136 \t 260 \t 235 \t 152\n",
      "138 \t 265 \t 255 \t 162\n",
      "139 \t 219 \t 176 \t 76\n",
      "--------------------------------\n"
     ]
    }
   ],
   "source": [
    "# Number of edges in each cluster for each set of questions\n",
    "print('Number of edges')\n",
    "print('--------------------------------')\n",
    "print('Class\\t # All\\t # Gen\\t # Friend')\n",
    "print('--------------------------------')\n",
    "for c in class_list:\n",
    "    print(c, '\\t', graphs_all_list[c].number_of_edges(), '\\t', graphs_gen_list[c].number_of_edges(), \n",
    "          '\\t', graphs_friend_list[c].number_of_edges())\n",
    "print('--------------------------------')"
   ]
  },
  {
   "cell_type": "code",
   "execution_count": 128,
   "metadata": {},
   "outputs": [
    {
     "name": "stdout",
     "output_type": "stream",
     "text": [
      "Maximum edges possible\n",
      "--------------------------------\n",
      "Class\t # All\t # Gen\t # Friend\n",
      "--------------------------------\n",
      "67 \t 306 \t 306 \t 306\n",
      "71 \t 380 \t 380 \t 380\n",
      "72 \t 272 \t 272 \t 272\n",
      "74 \t 110 \t 110 \t 110\n",
      "77 \t 342 \t 342 \t 342\n",
      "78 \t 380 \t 380 \t 380\n",
      "79 \t 600 \t 600 \t 600\n",
      "81 \t 756 \t 756 \t 756\n",
      "83 \t 182 \t 182 \t 182\n",
      "86 \t 210 \t 210 \t 210\n",
      "100 \t 306 \t 306 \t 306\n",
      "101 \t 306 \t 306 \t 306\n",
      "103 \t 272 \t 272 \t 272\n",
      "121 \t 132 \t 132 \t 132\n",
      "122 \t 110 \t 110 \t 110\n",
      "125 \t 240 \t 240 \t 240\n",
      "126 \t 90 \t 90 \t 90\n",
      "127 \t 156 \t 156 \t 156\n",
      "129 \t 56 \t 56 \t 56\n",
      "130 \t 420 \t 420 \t 420\n",
      "131 \t 110 \t 110 \t 110\n",
      "133 \t 342 \t 342 \t 342\n",
      "135 \t 306 \t 306 \t 306\n",
      "136 \t 306 \t 306 \t 306\n",
      "138 \t 380 \t 380 \t 380\n",
      "139 \t 306 \t 306 \t 306\n",
      "--------------------------------\n"
     ]
    }
   ],
   "source": [
    "# Maximum number of edges in each cluster for each set of questions\n",
    "print('Maximum edges possible')\n",
    "print('--------------------------------')\n",
    "print('Class\\t # All\\t # Gen\\t # Friend')\n",
    "print('--------------------------------')\n",
    "for c in class_list:\n",
    "    print(c, '\\t', graphs_all_list[c].number_of_nodes()**2-graphs_all_list[c].number_of_nodes(), \n",
    "             '\\t', graphs_gen_list[c].number_of_nodes()**2-graphs_gen_list[c].number_of_nodes(), \n",
    "             '\\t', graphs_friend_list[c].number_of_nodes()**2-graphs_friend_list[c].number_of_nodes())\n",
    "print('--------------------------------')"
   ]
  },
  {
   "cell_type": "code",
   "execution_count": 127,
   "metadata": {},
   "outputs": [
    {
     "name": "stdout",
     "output_type": "stream",
     "text": [
      "Density\n",
      "--------------------------------\n",
      "Class\t D. All\t D. Gen\t D. Friend\n",
      "--------------------------------\n",
      "67 \t 0.75 \t 0.67 \t 0.45\n",
      "71 \t 0.71 \t 0.65 \t 0.29\n",
      "72 \t 0.80 \t 0.66 \t 0.34\n",
      "74 \t 0.86 \t 0.85 \t 0.69\n",
      "77 \t 0.72 \t 0.65 \t 0.48\n",
      "78 \t 0.84 \t 0.80 \t 0.58\n",
      "79 \t 0.51 \t 0.46 \t 0.30\n",
      "81 \t 0.95 \t 0.88 \t 0.64\n",
      "83 \t 0.87 \t 0.78 \t 0.60\n",
      "86 \t 0.80 \t 0.79 \t 0.70\n",
      "100 \t 0.87 \t 0.83 \t 0.53\n",
      "101 \t 0.76 \t 0.67 \t 0.53\n",
      "103 \t 0.89 \t 0.81 \t 0.63\n",
      "121 \t 0.73 \t 0.68 \t 0.42\n",
      "122 \t 0.84 \t 0.76 \t 0.50\n",
      "125 \t 0.81 \t 0.78 \t 0.57\n",
      "126 \t 0.89 \t 0.89 \t 0.72\n",
      "127 \t 0.76 \t 0.69 \t 0.46\n",
      "129 \t 0.96 \t 0.91 \t 0.64\n",
      "130 \t 0.73 \t 0.62 \t 0.32\n",
      "131 \t 0.77 \t 0.64 \t 0.40\n",
      "133 \t 0.68 \t 0.59 \t 0.39\n",
      "135 \t 0.91 \t 0.89 \t 0.62\n",
      "136 \t 0.85 \t 0.77 \t 0.50\n",
      "138 \t 0.70 \t 0.67 \t 0.43\n",
      "139 \t 0.72 \t 0.58 \t 0.25\n",
      "--------------------------------\n"
     ]
    }
   ],
   "source": [
    "# Density in each cluster for each set of questions\n",
    "print(\"Density\")\n",
    "print('--------------------------------')\n",
    "print('Class\\t D. All\\t D. Gen\\t D. Friend')\n",
    "print('--------------------------------')\n",
    "for c in class_list:\n",
    "    max_all = graphs_all_list[c].number_of_nodes()**2-graphs_all_list[c].number_of_nodes()\n",
    "    max_gen = graphs_gen_list[c].number_of_nodes()**2-graphs_gen_list[c].number_of_nodes()\n",
    "    max_friend = graphs_friend_list[c].number_of_nodes()**2-graphs_friend_list[c].number_of_nodes()\n",
    "    dens_all = graphs_all_list[c].number_of_edges()/max_all\n",
    "    dens_gen = graphs_gen_list[c].number_of_edges()/max_gen\n",
    "    dens_friend = graphs_friend_list[c].number_of_edges()/max_friend\n",
    "    #{0:.2f}\n",
    "    print('{0} \\t {1:.2f} \\t {2:.2f} \\t {3:.2f}'.format(c, dens_all, dens_gen, dens_friend))\n",
    "\n",
    "print('--------------------------------')"
   ]
  },
  {
   "cell_type": "code",
   "execution_count": 146,
   "metadata": {},
   "outputs": [],
   "source": [
    "def get_hamming_distance(g1, g2):\n",
    "    '''\n",
    "    Receives 2 graphs\n",
    "    Returns the hamming distance of the 2 graphs based on the presence/absence of edges\n",
    "    '''\n",
    "    if len(set(g1.nodes()).difference(set(g2.nodes()))) != 0:\n",
    "        print('Problem! The set of nodes is different between the graphs!')\n",
    "        return\n",
    "        \n",
    "    max_edges = g1.number_of_nodes()**2-g1.number_of_nodes()\n",
    "    # Set theory\n",
    "    diff_12 = len(g1.edges()) + len(g2.edges()) - len(set(g1.edges()).intersection(set(g2.edges())))*2\n",
    "    \n",
    "    return diff_12/max_edges"
   ]
  },
  {
   "cell_type": "code",
   "execution_count": null,
   "metadata": {},
   "outputs": [],
   "source": []
  },
  {
   "cell_type": "code",
   "execution_count": 154,
   "metadata": {},
   "outputs": [
    {
     "name": "stdout",
     "output_type": "stream",
     "text": [
      "Hamming distance\n",
      "-----------------------------------------------------\n",
      "Class\t All x Gen\t Gen x Friend\t All x Friend\n",
      "-----------------------------------------------------\n",
      "67 \t 0.08 \t\t 0.22 \t\t 0.30\n",
      "71 \t 0.06 \t\t 0.36 \t\t 0.41\n",
      "72 \t 0.14 \t\t 0.32 \t\t 0.46\n",
      "74 \t 0.02 \t\t 0.15 \t\t 0.17\n",
      "77 \t 0.06 \t\t 0.17 \t\t 0.24\n",
      "78 \t 0.04 \t\t 0.22 \t\t 0.26\n",
      "79 \t 0.05 \t\t 0.15 \t\t 0.20\n",
      "81 \t 0.07 \t\t 0.24 \t\t 0.31\n",
      "83 \t 0.09 \t\t 0.18 \t\t 0.27\n",
      "86 \t 0.00 \t\t 0.10 \t\t 0.10\n",
      "100 \t 0.03 \t\t 0.30 \t\t 0.33\n",
      "101 \t 0.09 \t\t 0.14 \t\t 0.23\n",
      "103 \t 0.08 \t\t 0.18 \t\t 0.26\n",
      "121 \t 0.05 \t\t 0.26 \t\t 0.30\n",
      "122 \t 0.07 \t\t 0.26 \t\t 0.34\n",
      "125 \t 0.04 \t\t 0.21 \t\t 0.25\n",
      "126 \t 0.00 \t\t 0.17 \t\t 0.17\n",
      "127 \t 0.07 \t\t 0.23 \t\t 0.30\n",
      "129 \t 0.05 \t\t 0.27 \t\t 0.32\n",
      "130 \t 0.11 \t\t 0.29 \t\t 0.40\n",
      "131 \t 0.14 \t\t 0.24 \t\t 0.37\n",
      "133 \t 0.09 \t\t 0.20 \t\t 0.29\n",
      "135 \t 0.02 \t\t 0.27 \t\t 0.29\n",
      "136 \t 0.08 \t\t 0.27 \t\t 0.35\n",
      "138 \t 0.03 \t\t 0.24 \t\t 0.27\n",
      "139 \t 0.14 \t\t 0.33 \t\t 0.47\n",
      "-----------------------------------------------------\n"
     ]
    }
   ],
   "source": [
    "# Density in each cluster for each set of questions\n",
    "print(\"Hamming distance\")\n",
    "print('-----------------------------------------------------')\n",
    "print('Class\\t All x Gen\\t Gen x Friend\\t All x Friend')\n",
    "print('-----------------------------------------------------')\n",
    "for c in class_list:\n",
    "    hd_all_gen = get_hamming_distance(graphs_all_list[c], graphs_gen_list[c])\n",
    "    hd_gen_friend = get_hamming_distance(graphs_gen_list[c], graphs_friend_list[c])\n",
    "    hd_all_friend = get_hamming_distance(graphs_all_list[c], graphs_friend_list[c])\n",
    "    \n",
    "    #{0:.2f}\n",
    "    print('{0} \\t {1:.2f} \\t\\t {2:.2f} \\t\\t {3:.2f}'.format(c, hd_all_gen, hd_gen_friend, hd_all_friend))\n",
    "\n",
    "print('-----------------------------------------------------')"
   ]
  },
  {
   "cell_type": "code",
   "execution_count": null,
   "metadata": {},
   "outputs": [],
   "source": []
  },
  {
   "cell_type": "markdown",
   "metadata": {},
   "source": [
    "### Hamming distance\n",
    "\n",
    "The Hamming distance has to be calculated based on each cluster.\n",
    "\n",
    "https://docs.scipy.org/doc/scipy-0.14.0/reference/generated/scipy.spatial.distance.hamming.html\n",
    "    \n",
    "http://www.casos.cs.cmu.edu/events/summer_institute/2016/reading_list/day3_kenny_qap_pdf.pdf"
   ]
  },
  {
   "cell_type": "markdown",
   "metadata": {},
   "source": [
    "### All vs. Gen"
   ]
  },
  {
   "cell_type": "code",
   "execution_count": null,
   "metadata": {},
   "outputs": [],
   "source": [
    "num_edges_all = len(list(G_all.edges()))\n",
    "num_edges_gen = len(list(G_gen.edges()))"
   ]
  },
  {
   "cell_type": "code",
   "execution_count": null,
   "metadata": {},
   "outputs": [],
   "source": [
    "num_edges_all, num_edges_gen"
   ]
  },
  {
   "cell_type": "code",
   "execution_count": null,
   "metadata": {},
   "outputs": [],
   "source": [
    "len(set(G_all.edges()).intersection(G_gen.edges()))"
   ]
  },
  {
   "cell_type": "code",
   "execution_count": null,
   "metadata": {},
   "outputs": [],
   "source": [
    "# Create a mask between the matrices and calculate the difference\n",
    "m_all = pd.DataFrame(nx.convert_matrix.to_numpy_matrix(G_all))\n",
    "#m_gen = pd.read_csv('./results/connections_gen.csv', index_col=0)\n",
    "#m_friend = pd.read_csv('./results/connections_friend.csv', index_col=0)"
   ]
  },
  {
   "cell_type": "code",
   "execution_count": null,
   "metadata": {},
   "outputs": [],
   "source": [
    "# Create a binary matrix. True if edge exists and False otherwise.\n",
    "bin_all = m_all>0\n",
    "#bin_gen = m_gen>0\n",
    "#bin_friend = m_friend > 0"
   ]
  },
  {
   "cell_type": "code",
   "execution_count": null,
   "metadata": {},
   "outputs": [],
   "source": [
    "bin_all"
   ]
  },
  {
   "cell_type": "code",
   "execution_count": null,
   "metadata": {},
   "outputs": [],
   "source": [
    "# Flatten the arrays\n",
    "vec_all = [item for sublist in bin_all.values for item in sublist]\n",
    "vec_gen = [item for sublist in bin_gen.values for item in sublist]\n",
    "vec_friend = [item for sublist in bin_friend.values for item in sublist]"
   ]
  },
  {
   "cell_type": "code",
   "execution_count": null,
   "metadata": {},
   "outputs": [],
   "source": [
    "spatial.distance.hamming(vec_all, vec_gen)"
   ]
  },
  {
   "cell_type": "code",
   "execution_count": null,
   "metadata": {},
   "outputs": [],
   "source": [
    "spatial.distance.hamming(vec_all, vec_friend)"
   ]
  },
  {
   "cell_type": "code",
   "execution_count": null,
   "metadata": {},
   "outputs": [],
   "source": [
    "spatial.distance.hamming(vec_friend, vec_gen)"
   ]
  },
  {
   "cell_type": "code",
   "execution_count": null,
   "metadata": {},
   "outputs": [],
   "source": [
    "# Density (953*953 is the squared matrix)\n",
    "sum(vec_friend)/(953*953) %len(vec_friend)"
   ]
  },
  {
   "cell_type": "code",
   "execution_count": null,
   "metadata": {},
   "outputs": [],
   "source": [
    "sum(vec_gen)/(953*953)%len(vec_gen)"
   ]
  },
  {
   "cell_type": "code",
   "execution_count": null,
   "metadata": {},
   "outputs": [],
   "source": [
    "sum(vec_all)/(953*953)%len(vec_all)"
   ]
  },
  {
   "cell_type": "code",
   "execution_count": null,
   "metadata": {},
   "outputs": [],
   "source": [
    "stats.pearsonr(vec_all, vec_friend)"
   ]
  },
  {
   "cell_type": "code",
   "execution_count": null,
   "metadata": {},
   "outputs": [],
   "source": [
    "stats.pearsonr(vec_all, vec_gen)"
   ]
  },
  {
   "cell_type": "code",
   "execution_count": null,
   "metadata": {},
   "outputs": [],
   "source": [
    "stats.pearsonr(vec_gen, vec_friend)"
   ]
  },
  {
   "cell_type": "markdown",
   "metadata": {},
   "source": [
    "# Trial of MR-QAP\n",
    "\n",
    "https://www.slideshare.net/frbkrm/mrqap-tutorial-for-newbies"
   ]
  },
  {
   "cell_type": "code",
   "execution_count": null,
   "metadata": {},
   "outputs": [],
   "source": [
    "len(G_all.edges())"
   ]
  },
  {
   "cell_type": "code",
   "execution_count": null,
   "metadata": {},
   "outputs": [],
   "source": [
    "sum(vec_all)"
   ]
  },
  {
   "cell_type": "markdown",
   "metadata": {},
   "source": [
    "# Converting graph to numpy"
   ]
  },
  {
   "cell_type": "code",
   "execution_count": null,
   "metadata": {},
   "outputs": [],
   "source": [
    "nx.convert_matrix.to_numpy_matrix(G_all)"
   ]
  },
  {
   "cell_type": "code",
   "execution_count": null,
   "metadata": {},
   "outputs": [],
   "source": [
    "list(nx.strongly_connected_component_subgraphs(G_all))"
   ]
  },
  {
   "cell_type": "code",
   "execution_count": null,
   "metadata": {},
   "outputs": [],
   "source": [
    "G_all.nodes(data=True)"
   ]
  },
  {
   "cell_type": "code",
   "execution_count": null,
   "metadata": {},
   "outputs": [],
   "source": []
  }
 ],
 "metadata": {
  "kernelspec": {
   "display_name": "Python 3",
   "language": "python",
   "name": "python3"
  },
  "language_info": {
   "codemirror_mode": {
    "name": "ipython",
    "version": 3
   },
   "file_extension": ".py",
   "mimetype": "text/x-python",
   "name": "python",
   "nbconvert_exporter": "python",
   "pygments_lexer": "ipython3",
   "version": "3.6.3"
  }
 },
 "nbformat": 4,
 "nbformat_minor": 2
}
