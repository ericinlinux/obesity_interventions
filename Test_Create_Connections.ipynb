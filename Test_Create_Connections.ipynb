{
 "cells": [
  {
   "cell_type": "code",
   "execution_count": 1,
   "metadata": {},
   "outputs": [],
   "source": [
    "from codes.network import create_connections"
   ]
  },
  {
   "cell_type": "code",
   "execution_count": 94,
   "metadata": {},
   "outputs": [],
   "source": [
    "import collections\n",
    "import matplotlib.pyplot as plt\n",
    "import networkx as nx\n",
    "import numpy as np\n",
    "import pandas as pd\n",
    "from scipy import stats"
   ]
  },
  {
   "cell_type": "code",
   "execution_count": 3,
   "metadata": {},
   "outputs": [],
   "source": [
    "%load_ext autoreload\n",
    "%autoreload 2\n",
    "%matplotlib inline"
   ]
  },
  {
   "cell_type": "code",
   "execution_count": 4,
   "metadata": {},
   "outputs": [],
   "source": [
    "#graph=nx.DiGraph()\n",
    "#G = create_connections(graph=graph, level_f='./')"
   ]
  },
  {
   "cell_type": "code",
   "execution_count": 5,
   "metadata": {},
   "outputs": [],
   "source": [
    "graph_all = nx.DiGraph()\n",
    "G_all = create_connections(graph=graph_all, level_f='./', label='all')"
   ]
  },
  {
   "cell_type": "code",
   "execution_count": 6,
   "metadata": {},
   "outputs": [],
   "source": [
    "graph_friend = nx.DiGraph()\n",
    "G_friend = create_connections(graph=graph_friend, level_f='./', label='friend')"
   ]
  },
  {
   "cell_type": "code",
   "execution_count": 7,
   "metadata": {},
   "outputs": [],
   "source": [
    "graph_gen = nx.DiGraph()\n",
    "G_gen = create_connections(graph=graph_gen, level_f='./', label='gen')"
   ]
  },
  {
   "cell_type": "code",
   "execution_count": 8,
   "metadata": {},
   "outputs": [],
   "source": [
    "# graph5 = nx.DiGraph()\n",
    "\n",
    "# formula_s = '{ \\\n",
    "#     \"DI_Com_Network\": 1, \\\n",
    "#     \"DI_Impression_management\": 0, \\\n",
    "#     \"DI_Modelling\": 0, \\\n",
    "#     \"GEN_Advice\": 0.5, \\\n",
    "#     \"GEN_Friendship\": 1, \\\n",
    "#     \"GEN_Leader\": 1, \\\n",
    "#     \"GEN_Respect\": 1, \\\n",
    "#     \"GEN_Social_Facilitation\": 1, \\\n",
    "#     \"GEN_Want2B\": 1, \\\n",
    "#     \"ME_Com_Network\": 0, \\\n",
    "#     \"PA_Com_Network\": 1, \\\n",
    "#     \"PA_Impression_Management\": 0, \\\n",
    "#     \"PA_Modelling\": 0.3 }'\n",
    "# G5 = create_connections(graph=graph5, level_f='./', label='customized', formula_s=formula_s)"
   ]
  },
  {
   "cell_type": "markdown",
   "metadata": {},
   "source": [
    "# Measurements for the graphs"
   ]
  },
  {
   "cell_type": "markdown",
   "metadata": {},
   "source": [
    "### Degree distribution histogram"
   ]
  },
  {
   "cell_type": "code",
   "execution_count": null,
   "metadata": {},
   "outputs": [],
   "source": []
  },
  {
   "cell_type": "code",
   "execution_count": 18,
   "metadata": {},
   "outputs": [
    {
     "data": {
      "text/plain": [
       "Text(0.5,0,'Degree')"
      ]
     },
     "execution_count": 18,
     "metadata": {},
     "output_type": "execute_result"
    },
    {
     "data": {
      "image/png": "[encoded data removed]",
      "text/plain": [
       "<matplotlib.figure.Figure at 0x1144db128>"
      ]
     },
     "metadata": {},
     "output_type": "display_data"
    }
   ],
   "source": [
    "degree_sequence_all = sorted([d for n, d in G_all.out_degree()], reverse=True)  # degree sequence\n",
    "degree_sequence_friend = sorted([d for n, d in G_friend.out_degree()], reverse=True)  # degree sequence\n",
    "degree_sequence_gen = sorted([d for n, d in G_gen.out_degree()], reverse=True)  # degree sequence\n",
    "\n",
    "degreeCount_all = collections.Counter(degree_sequence_all)\n",
    "degreeCount_friend = collections.Counter(degree_sequence_friend)\n",
    "degreeCount_gen = collections.Counter(degree_sequence_gen)\n",
    "\n",
    "deg_all, cnt_all = zip(*degreeCount_all.items())\n",
    "deg_friend, cnt_friend = zip(*degreeCount_friend.items())\n",
    "deg_gen, cnt_gen = zip(*degreeCount_gen.items())\n",
    "\n",
    "fig, ax = plt.subplots(figsize=((14,8)))\n",
    "\n",
    "plt.bar(list(deg_all), cnt_all, width=0.80, color='b')\n",
    "\n",
    "plt.title(\"Degree Histogram\")\n",
    "plt.ylabel(\"Count\")\n",
    "plt.xlabel(\"Degree\")\n",
    "#ax.set_xticks([d + 0.4 for d in deg])\n",
    "#ax.set_xticklabels(deg)\n"
   ]
  },
  {
   "cell_type": "code",
   "execution_count": 78,
   "metadata": {},
   "outputs": [
    {
     "data": {
      "text/plain": [
       "<matplotlib.legend.Legend at 0x11bc455f8>"
      ]
     },
     "execution_count": 78,
     "metadata": {},
     "output_type": "execute_result"
    },
    {
     "data": {
      "image/png": "[encoded data removed]",
      "text/plain": [
       "<matplotlib.figure.Figure at 0x11bc45940>"
      ]
     },
     "metadata": {},
     "output_type": "display_data"
    }
   ],
   "source": [
    "#pd.Series(dict(degreeCount_all))#.hist(bins=28)\n",
    "\n",
    "plt.figure(figsize=(14,8))\n",
    "\n",
    "pd.Series(degree_sequence_all).plot(kind='hist', bins=28, alpha=0.65, label='All')#, rwidth=0.5)\n",
    "pd.Series(degree_sequence_gen).plot(kind='hist', bins=28, alpha=0.65, label='GEN')#, rwidth=0.5)\n",
    "pd.Series(degree_sequence_friend).plot(kind='hist', bins=28, alpha=0.65, label='Friendship')#, rwidth=0.5)\n",
    "#pd.Series(degree_sequence_gen)#.hist(bins=28, )#, rwidth=0.5)\n",
    "#pd.Series(degree_sequence_friend)#.hist(bins=28)#, rwidth=0.5)\n",
    "plt.legend()\n",
    "#df4.plot(kind='hist', alpha=0.5)\n",
    "\n",
    "\n",
    "#df_merge.hist(bins=28)#, rwidth=0.5)"
   ]
  },
  {
   "cell_type": "code",
   "execution_count": 95,
   "metadata": {},
   "outputs": [],
   "source": [
    "dist_all, _ = np.histogram(degree_sequence_all, bins=np.arange(28))\n",
    "dist_gen, _ = np.histogram(degree_sequence_gen, bins=np.arange(28))\n",
    "dist_friend, _ = np.histogram(degree_sequence_friend, bins=np.arange(28))"
   ]
  },
  {
   "cell_type": "code",
   "execution_count": 102,
   "metadata": {},
   "outputs": [
    {
     "data": {
      "text/plain": [
       "(0.9093651883879896, 5.174665028663992e-11)"
      ]
     },
     "execution_count": 102,
     "metadata": {},
     "output_type": "execute_result"
    }
   ],
   "source": [
    "stats.pearsonr(dist_all, dist_gen)"
   ]
  },
  {
   "cell_type": "code",
   "execution_count": 104,
   "metadata": {},
   "outputs": [
    {
     "data": {
      "text/plain": [
       "<matplotlib.collections.PathCollection at 0x1205d7080>"
      ]
     },
     "execution_count": 104,
     "metadata": {},
     "output_type": "execute_result"
    },
    {
     "data": {
      "image/png": "[encoded data removed]",
      "text/plain": [
       "<matplotlib.figure.Figure at 0x120e8de10>"
      ]
     },
     "metadata": {},
     "output_type": "display_data"
    }
   ],
   "source": [
    "plt.scatter(dist_all, dist_gen)"
   ]
  },
  {
   "cell_type": "code",
   "execution_count": 105,
   "metadata": {},
   "outputs": [
    {
     "data": {
      "text/plain": [
       "(0.4835972290599817, 0.010600594550178248)"
      ]
     },
     "execution_count": 105,
     "metadata": {},
     "output_type": "execute_result"
    }
   ],
   "source": [
    "stats.pearsonr(dist_all, dist_friend)"
   ]
  },
  {
   "cell_type": "code",
   "execution_count": 106,
   "metadata": {},
   "outputs": [
    {
     "data": {
      "text/plain": [
       "<matplotlib.collections.PathCollection at 0x120b49f98>"
      ]
     },
     "execution_count": 106,
     "metadata": {},
     "output_type": "execute_result"
    },
    {
     "data": {
      "image/png": "[encoded data removed]",
      "text/plain": [
       "<matplotlib.figure.Figure at 0x12090edd8>"
      ]
     },
     "metadata": {},
     "output_type": "display_data"
    }
   ],
   "source": [
    "plt.scatter(dist_all, dist_friend)"
   ]
  },
  {
   "cell_type": "code",
   "execution_count": 107,
   "metadata": {},
   "outputs": [
    {
     "data": {
      "text/plain": [
       "(0.6535356425253106, 0.0002186439715775998)"
      ]
     },
     "execution_count": 107,
     "metadata": {},
     "output_type": "execute_result"
    }
   ],
   "source": [
    "stats.pearsonr(dist_friend, dist_gen)"
   ]
  },
  {
   "cell_type": "code",
   "execution_count": 109,
   "metadata": {},
   "outputs": [
    {
     "data": {
      "text/plain": [
       "<matplotlib.collections.PathCollection at 0x1204c6e48>"
      ]
     },
     "execution_count": 109,
     "metadata": {},
     "output_type": "execute_result"
    },
    {
     "data": {
      "image/png": "[encoded data removed]",
      "text/plain": [
       "<matplotlib.figure.Figure at 0x1206ca390>"
      ]
     },
     "metadata": {},
     "output_type": "display_data"
    }
   ],
   "source": [
    "plt.scatter(dist_friend, dist_gen)"
   ]
  },
  {
   "cell_type": "code",
   "execution_count": null,
   "metadata": {},
   "outputs": [],
   "source": []
  }
 ],
 "metadata": {
  "kernelspec": {
   "display_name": "Python 3",
   "language": "python",
   "name": "python3"
  },
  "language_info": {
   "codemirror_mode": {
    "name": "ipython",
    "version": 3
   },
   "file_extension": ".py",
   "mimetype": "text/x-python",
   "name": "python",
   "nbconvert_exporter": "python",
   "pygments_lexer": "ipython3",
   "version": "3.6.3"
  }
 },
 "nbformat": 4,
 "nbformat_minor": 2
}
