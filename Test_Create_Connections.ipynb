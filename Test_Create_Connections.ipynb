{
 "cells": [
  {
   "cell_type": "markdown",
   "metadata": {},
   "source": [
    "# Test for the connections\n",
    "\n",
    "On 12th February - changed the analysis to populate the nodes informations."
   ]
  },
  {
   "cell_type": "code",
   "execution_count": 1,
   "metadata": {},
   "outputs": [],
   "source": [
    "from codes.network import generate_network"
   ]
  },
  {
   "cell_type": "code",
   "execution_count": 2,
   "metadata": {},
   "outputs": [],
   "source": [
    "import collections\n",
    "import matplotlib.pyplot as plt\n",
    "import networkx as nx\n",
    "import numpy as np\n",
    "import pandas as pd\n",
    "from scipy import stats, spatial"
   ]
  },
  {
   "cell_type": "code",
   "execution_count": 3,
   "metadata": {},
   "outputs": [],
   "source": [
    "%load_ext autoreload\n",
    "%autoreload 2\n",
    "%matplotlib inline"
   ]
  },
  {
   "cell_type": "code",
   "execution_count": 6,
   "metadata": {},
   "outputs": [
    {
     "name": "stdout",
     "output_type": "stream",
     "text": [
      "Create connections...\n",
      "Nodes after connections: # 906\n",
      "Edges created #:  9154\n",
      "\n",
      "Create agents...\n",
      "PA\n",
      "gender\n",
      "age\n",
      "class\n",
      "env\n",
      "bmi\n",
      "height\n",
      "weight\n",
      "Removing nodes not in the specified classes...\n",
      "Nodes removed for not being in the selected classes: # 455\n",
      "Nodes removed for not having data for BMI: # 16\n",
      "Nodes remaining after removal: # 435\n",
      "Edges remaining after removal #:  5744\n",
      "###############################################################\n",
      "Graph generated successfuly!\n",
      "###############################################################\n",
      "\n"
     ]
    }
   ],
   "source": [
    "G_all = generate_network(level_f='./', label='all')\n",
    "#G_all = nx.DiGraph()\n",
    "#create_connections(graph=G_all, level_f='./', label='all')\n",
    "#create_agents(graph=G_all, level_f='./')\n",
    "#remove_nodes(graph=G_all, level_f='./')\n",
    "#print('Nodes remaining after removal: #', len(G_all.nodes()))\n",
    "#print('Edges remaining after removal #: ', len(G_all.edges()))"
   ]
  },
  {
   "cell_type": "code",
   "execution_count": 7,
   "metadata": {},
   "outputs": [
    {
     "name": "stdout",
     "output_type": "stream",
     "text": [
      "Create connections...\n",
      "Nodes after connections: # 905\n",
      "Edges created #:  8304\n",
      "\n",
      "Create agents...\n",
      "PA\n",
      "gender\n",
      "age\n",
      "class\n",
      "env\n",
      "bmi\n",
      "height\n",
      "weight\n",
      "Removing nodes not in the specified classes...\n",
      "Nodes removed for not being in the selected classes: # 454\n",
      "Nodes removed for not having data for BMI: # 16\n",
      "Nodes remaining after removal: # 435\n",
      "Edges remaining after removal #:  5245\n",
      "###############################################################\n",
      "Graph generated successfuly!\n",
      "###############################################################\n",
      "\n"
     ]
    }
   ],
   "source": [
    "G_gen = generate_network(level_f='./', label='gen')\n",
    "#G_gen = nx.DiGraph()\n",
    "#create_connections(graph=G_gen, level_f='./', label='gen')\n",
    "#create_agents(graph=G_gen, level_f='./')\n",
    "#remove_nodes(graph=G_gen, level_f='./')\n",
    "#print('Nodes remaining after removal: #', len(G_gen.nodes()))\n",
    "#print('Edges remaining after removal #: ', len(G_gen.edges()))"
   ]
  },
  {
   "cell_type": "code",
   "execution_count": 8,
   "metadata": {},
   "outputs": [
    {
     "name": "stdout",
     "output_type": "stream",
     "text": [
      "Create connections...\n",
      "Nodes after connections: # 897\n",
      "Edges created #:  5562\n",
      "\n",
      "Create agents...\n",
      "PA\n",
      "gender\n",
      "age\n",
      "class\n",
      "env\n",
      "bmi\n",
      "height\n",
      "weight\n",
      "Removing nodes not in the specified classes...\n",
      "Nodes removed for not being in the selected classes: # 446\n",
      "Nodes removed for not having data for BMI: # 16\n",
      "Nodes remaining after removal: # 435\n",
      "Edges remaining after removal #:  3533\n",
      "###############################################################\n",
      "Graph generated successfuly!\n",
      "###############################################################\n",
      "\n"
     ]
    }
   ],
   "source": [
    "G_friend = generate_network(level_f='./', label='friend')\n",
    "#G_friend = nx.DiGraph()\n",
    "#create_connections(graph=G_friend, level_f='./', label='friend')\n",
    "#create_agents(graph=G_friend, level_f='./')\n",
    "#remove_nodes(graph=G_friend, level_f='./')\n",
    "#print('Nodes remaining after removal: #', len(G_friend.nodes()))\n",
    "#print('Edges remaining after removal #: ', len(G_friend.edges()))"
   ]
  },
  {
   "cell_type": "code",
   "execution_count": null,
   "metadata": {},
   "outputs": [],
   "source": [
    "# All the nodes are present in all the three graphs\n",
    "len(set(G_all.nodes()).intersection(G_gen.nodes())), len(set(G_all.nodes()).intersection(G_friend.nodes())), \\\n",
    "    len(set(G_friend.nodes()).intersection(G_gen.nodes()))"
   ]
  },
  {
   "cell_type": "code",
   "execution_count": null,
   "metadata": {},
   "outputs": [],
   "source": [
    "len(set(G_all.nodes()).difference(G_gen.nodes())), len(set(G_all.nodes()).difference(G_friend.nodes())), \\\n",
    "    len(set(G_friend.nodes()).difference(G_gen.nodes()))"
   ]
  },
  {
   "cell_type": "code",
   "execution_count": null,
   "metadata": {},
   "outputs": [],
   "source": [
    "# graph5 = nx.DiGraph()\n",
    "\n",
    "# formula_s = '{ \\\n",
    "#     \"DI_Com_Network\": 1, \\\n",
    "#     \"DI_Impression_management\": 0, \\\n",
    "#     \"DI_Modelling\": 0, \\\n",
    "#     \"GEN_Advice\": 0.5, \\\n",
    "#     \"GEN_Friendship\": 1, \\\n",
    "#     \"GEN_Leader\": 1, \\\n",
    "#     \"GEN_Respect\": 1, \\\n",
    "#     \"GEN_Social_Facilitation\": 1, \\\n",
    "#     \"GEN_Want2B\": 1, \\\n",
    "#     \"ME_Com_Network\": 0, \\\n",
    "#     \"PA_Com_Network\": 1, \\\n",
    "#     \"PA_Impression_Management\": 0, \\\n",
    "#     \"PA_Modelling\": 0.3 }'\n",
    "# G5 = create_connections(graph=graph5, level_f='./', label='customized', formula_s=formula_s)"
   ]
  },
  {
   "cell_type": "markdown",
   "metadata": {},
   "source": [
    "# Measurements for the graphs"
   ]
  },
  {
   "cell_type": "markdown",
   "metadata": {},
   "source": [
    "### Degree distribution histogram"
   ]
  },
  {
   "cell_type": "code",
   "execution_count": null,
   "metadata": {},
   "outputs": [],
   "source": [
    "degree_sequence_all = sorted([d for n, d in G_all.out_degree()], reverse=True)  # degree sequence\n",
    "degree_sequence_friend = sorted([d for n, d in G_friend.out_degree()], reverse=True)  # degree sequence\n",
    "degree_sequence_gen = sorted([d for n, d in G_gen.out_degree()], reverse=True)  # degree sequence\n",
    "'''\n",
    "Out degree because a nomination edge starts from the nominated node.\n",
    "degree_sequence_all = sorted([d for n, d in G_all.in_degree()], reverse=True)  # degree sequence\n",
    "degree_sequence_friend = sorted([d for n, d in G_friend.in_degree()], reverse=True)  # degree sequence\n",
    "degree_sequence_gen = sorted([d for n, d in G_gen.in_degree()], reverse=True)  # degree sequence\n",
    "'''\n",
    "\n",
    "degreeCount_all = collections.Counter(degree_sequence_all)\n",
    "degreeCount_friend = collections.Counter(degree_sequence_friend)\n",
    "degreeCount_gen = collections.Counter(degree_sequence_gen)\n",
    "\n",
    "deg_all, cnt_all = zip(*degreeCount_all.items())\n",
    "deg_friend, cnt_friend = zip(*degreeCount_friend.items())\n",
    "deg_gen, cnt_gen = zip(*degreeCount_gen.items())\n",
    "\n",
    "fig, ax = plt.subplots(figsize=((14,8)))\n",
    "\n",
    "width = 0.25\n",
    "x_all = [x-width for x in deg_all]\n",
    "x_gen = [x for x in deg_gen]\n",
    "x_friend = [x+width for x in deg_friend]\n",
    "\n",
    "#plt.bar(list(deg_all), cnt_all, width=0.80, color='b', alpha=0.5)\n",
    "ax.bar(x_all, cnt_all, width=width,color='b',align='center', label='All questions')\n",
    "ax.bar(x_gen, cnt_gen, width=width,color='g',align='center', label='General questions')\n",
    "ax.bar(x_friend, cnt_friend, width=width,color='r',align='center', label='Friendship question')\n",
    "#plt.bar(list(deg_gen), cnt_gen, width=0.80, color='r', alpha=0.5)\n",
    "\n",
    "plt.title(\"Degree Histogram\")\n",
    "plt.ylabel(\"Count\")\n",
    "plt.xlabel(\"Degree\")\n",
    "plt.xticks(range(28))\n",
    "plt.legend()\n"
   ]
  },
  {
   "cell_type": "code",
   "execution_count": null,
   "metadata": {},
   "outputs": [],
   "source": [
    "dist_all, _ = np.histogram(degree_sequence_all, bins=np.arange(28))\n",
    "dist_gen, _ = np.histogram(degree_sequence_gen, bins=np.arange(28))\n",
    "dist_friend, _ = np.histogram(degree_sequence_friend, bins=np.arange(28))"
   ]
  },
  {
   "cell_type": "code",
   "execution_count": null,
   "metadata": {},
   "outputs": [],
   "source": [
    "np.histogram(degree_sequence_all, bins=np.arange(28))"
   ]
  },
  {
   "cell_type": "code",
   "execution_count": null,
   "metadata": {},
   "outputs": [],
   "source": [
    "stats.pearsonr(dist_all, dist_gen)"
   ]
  },
  {
   "cell_type": "code",
   "execution_count": null,
   "metadata": {},
   "outputs": [],
   "source": [
    "plt.scatter(dist_all, dist_gen)"
   ]
  },
  {
   "cell_type": "code",
   "execution_count": null,
   "metadata": {},
   "outputs": [],
   "source": [
    "stats.pearsonr(dist_all, dist_friend)"
   ]
  },
  {
   "cell_type": "code",
   "execution_count": null,
   "metadata": {},
   "outputs": [],
   "source": [
    "plt.scatter(dist_all, dist_friend)"
   ]
  },
  {
   "cell_type": "code",
   "execution_count": null,
   "metadata": {},
   "outputs": [],
   "source": [
    "stats.pearsonr(dist_friend, dist_gen)"
   ]
  },
  {
   "cell_type": "code",
   "execution_count": null,
   "metadata": {},
   "outputs": [],
   "source": [
    "plt.scatter(dist_friend, dist_gen)"
   ]
  },
  {
   "cell_type": "markdown",
   "metadata": {},
   "source": [
    "## Clusters characteristics"
   ]
  },
  {
   "cell_type": "code",
   "execution_count": null,
   "metadata": {},
   "outputs": [],
   "source": [
    "clusters_all = list(nx.strongly_connected_component_subgraphs(G_all))\n",
    "clusters_gen = list(nx.strongly_connected_component_subgraphs(G_gen))\n",
    "clusters_friends = list(nx.strongly_connected_component_subgraphs(G_friend))"
   ]
  },
  {
   "cell_type": "code",
   "execution_count": null,
   "metadata": {},
   "outputs": [],
   "source": [
    "len(clusters_all), len(clusters_gen), len(clusters_friends)"
   ]
  },
  {
   "cell_type": "code",
   "execution_count": null,
   "metadata": {},
   "outputs": [],
   "source": [
    "len([67, 71, 72, 74, 77, 78, 79, 81, 83, 86, 100, 101, 103, 121, 122, 125, 126, 127, 129, 130, 131, 133, 135, 136, 138, 139])"
   ]
  },
  {
   "cell_type": "code",
   "execution_count": null,
   "metadata": {},
   "outputs": [],
   "source": [
    "# Create a dictionary. Keys are the classes, and the values are list of students\n",
    "class_list = [67, 71, 72, 74, 77, 78, 79, 81, 83, 86, 100, 101, 103, 121, 122, 125, 126, 127, 129, 130, 131, 133, 135, 136, 138, 139]\n",
    "class_dictionary = {}\n",
    "for c in class_list:\n",
    "    class_dictionary[c] = []\n",
    "\n",
    "for node, key in G_all.nodes.data('class'):\n",
    "    class_dictionary[int(key)].append(node)"
   ]
  },
  {
   "cell_type": "code",
   "execution_count": null,
   "metadata": {},
   "outputs": [],
   "source": [
    "# Clusters are classes.\n",
    "class_dictionary.keys()"
   ]
  },
  {
   "cell_type": "code",
   "execution_count": null,
   "metadata": {},
   "outputs": [],
   "source": [
    "# Get the subgraph for each cluster\n",
    "graphs_all_list = {}\n",
    "graphs_gen_list = {}\n",
    "graphs_friend_list = {}\n",
    "\n",
    "for c in class_list:\n",
    "    graphs_all_list[c] = G_all.subgraph(class_dictionary[c])\n",
    "    graphs_gen_list[c] = G_gen.subgraph(class_dictionary[c])\n",
    "    graphs_friend_list[c] = G_friend.subgraph(class_dictionary[c])"
   ]
  },
  {
   "cell_type": "code",
   "execution_count": null,
   "metadata": {},
   "outputs": [],
   "source": [
    "graphs_all_list[67], graphs_gen_list[67], graphs_friend_list[67]"
   ]
  },
  {
   "cell_type": "code",
   "execution_count": null,
   "metadata": {},
   "outputs": [],
   "source": [
    "# Number of nodes in each cluster for each set of questions\n",
    "print('Number of nodes')\n",
    "print('--------------------------------')\n",
    "print('Class\\t # All\\t # Gen\\t # Friend')\n",
    "print('--------------------------------')\n",
    "for c in class_list:\n",
    "    print(c, '\\t', graphs_all_list[c].number_of_nodes(), '\\t', graphs_gen_list[c].number_of_nodes(), \n",
    "          '\\t', graphs_friend_list[c].number_of_nodes())\n",
    "print('--------------------------------')"
   ]
  },
  {
   "cell_type": "code",
   "execution_count": null,
   "metadata": {},
   "outputs": [],
   "source": [
    "# Number of edges in each cluster for each set of questions\n",
    "print('Number of edges')\n",
    "print('--------------------------------')\n",
    "print('Class\\t # All\\t # Gen\\t # Friend')\n",
    "print('--------------------------------')\n",
    "for c in class_list:\n",
    "    print(c, '\\t', graphs_all_list[c].number_of_edges(), '\\t', graphs_gen_list[c].number_of_edges(), \n",
    "          '\\t', graphs_friend_list[c].number_of_edges())\n",
    "print('--------------------------------')"
   ]
  },
  {
   "cell_type": "code",
   "execution_count": null,
   "metadata": {},
   "outputs": [],
   "source": [
    "# Maximum number of edges in each cluster for each set of questions\n",
    "print('Maximum edges possible')\n",
    "print('--------------------------------')\n",
    "print('Class\\t # All\\t # Gen\\t # Friend')\n",
    "print('--------------------------------')\n",
    "for c in class_list:\n",
    "    print(c, '\\t', graphs_all_list[c].number_of_nodes()**2-graphs_all_list[c].number_of_nodes(), \n",
    "             '\\t', graphs_gen_list[c].number_of_nodes()**2-graphs_gen_list[c].number_of_nodes(), \n",
    "             '\\t', graphs_friend_list[c].number_of_nodes()**2-graphs_friend_list[c].number_of_nodes())\n",
    "print('--------------------------------')"
   ]
  },
  {
   "cell_type": "code",
   "execution_count": null,
   "metadata": {},
   "outputs": [],
   "source": [
    "# Density in each cluster for each set of questions\n",
    "print(\"Density\")\n",
    "print('--------------------------------')\n",
    "print('Class\\t D. All\\t D. Gen\\t D. Friend')\n",
    "print('--------------------------------')\n",
    "for c in class_list:\n",
    "    max_all = graphs_all_list[c].number_of_nodes()**2-graphs_all_list[c].number_of_nodes()\n",
    "    max_gen = graphs_gen_list[c].number_of_nodes()**2-graphs_gen_list[c].number_of_nodes()\n",
    "    max_friend = graphs_friend_list[c].number_of_nodes()**2-graphs_friend_list[c].number_of_nodes()\n",
    "    dens_all = graphs_all_list[c].number_of_edges()/max_all\n",
    "    dens_gen = graphs_gen_list[c].number_of_edges()/max_gen\n",
    "    dens_friend = graphs_friend_list[c].number_of_edges()/max_friend\n",
    "    #{0:.2f}\n",
    "    print('{0} \\t {1:.2f} \\t {2:.2f} \\t {3:.2f}'.format(c, dens_all, dens_gen, dens_friend))\n",
    "\n",
    "print('--------------------------------')"
   ]
  },
  {
   "cell_type": "markdown",
   "metadata": {},
   "source": [
    "### Hamming distance\n",
    "\n",
    "The Hamming distance has to be calculated based on each cluster.\n",
    "\n",
    "https://docs.scipy.org/doc/scipy-0.14.0/reference/generated/scipy.spatial.distance.hamming.html\n",
    "    \n",
    "http://www.casos.cs.cmu.edu/events/summer_institute/2016/reading_list/day3_kenny_qap_pdf.pdf"
   ]
  },
  {
   "cell_type": "code",
   "execution_count": null,
   "metadata": {},
   "outputs": [],
   "source": [
    "def get_hamming_distance(g1, g2):\n",
    "    '''\n",
    "    Receives 2 graphs\n",
    "    Returns the hamming distance of the 2 graphs based on the presence/absence of edges\n",
    "    '''\n",
    "    if len(set(g1.nodes()).difference(set(g2.nodes()))) != 0:\n",
    "        print('Problem! The set of nodes is different between the graphs!')\n",
    "        return\n",
    "        \n",
    "    max_edges = g1.number_of_nodes()**2-g1.number_of_nodes()\n",
    "    # Set theory\n",
    "    diff_12 = len(g1.edges()) + len(g2.edges()) - len(set(g1.edges()).intersection(set(g2.edges())))*2\n",
    "    \n",
    "    return diff_12/max_edges"
   ]
  },
  {
   "cell_type": "code",
   "execution_count": null,
   "metadata": {},
   "outputs": [],
   "source": []
  },
  {
   "cell_type": "code",
   "execution_count": null,
   "metadata": {},
   "outputs": [],
   "source": [
    "# Density in each cluster for each set of questions\n",
    "print(\"Hamming distance\")\n",
    "print('-----------------------------------------------------')\n",
    "print('Class\\t All x Gen\\t Gen x Friend\\t All x Friend')\n",
    "print('-----------------------------------------------------')\n",
    "for c in class_list:\n",
    "    hd_all_gen = get_hamming_distance(graphs_all_list[c], graphs_gen_list[c])\n",
    "    hd_gen_friend = get_hamming_distance(graphs_gen_list[c], graphs_friend_list[c])\n",
    "    hd_all_friend = get_hamming_distance(graphs_all_list[c], graphs_friend_list[c])\n",
    "    \n",
    "    #{0:.2f}\n",
    "    print('{0} \\t {1:.2f} \\t\\t {2:.2f} \\t\\t {3:.2f}'.format(c, hd_all_gen, hd_gen_friend, hd_all_friend))\n",
    "\n",
    "print('-----------------------------------------------------')"
   ]
  },
  {
   "cell_type": "code",
   "execution_count": null,
   "metadata": {},
   "outputs": [],
   "source": []
  },
  {
   "cell_type": "markdown",
   "metadata": {},
   "source": [
    "### All vs. Gen"
   ]
  },
  {
   "cell_type": "code",
   "execution_count": null,
   "metadata": {},
   "outputs": [],
   "source": [
    "num_edges_all = len(list(G_all.edges()))\n",
    "num_edges_gen = len(list(G_gen.edges()))"
   ]
  },
  {
   "cell_type": "code",
   "execution_count": null,
   "metadata": {},
   "outputs": [],
   "source": [
    "num_edges_all, num_edges_gen"
   ]
  },
  {
   "cell_type": "code",
   "execution_count": null,
   "metadata": {},
   "outputs": [],
   "source": [
    "len(set(G_all.edges()).intersection(G_gen.edges()))"
   ]
  },
  {
   "cell_type": "code",
   "execution_count": null,
   "metadata": {},
   "outputs": [],
   "source": [
    "# Create a mask between the matrices and calculate the difference\n",
    "m_all = pd.DataFrame(nx.convert_matrix.to_numpy_matrix(G_all))\n",
    "#m_gen = pd.read_csv('./results/connections_gen.csv', index_col=0)\n",
    "#m_friend = pd.read_csv('./results/connections_friend.csv', index_col=0)"
   ]
  },
  {
   "cell_type": "code",
   "execution_count": null,
   "metadata": {},
   "outputs": [],
   "source": [
    "# Create a binary matrix. True if edge exists and False otherwise.\n",
    "bin_all = m_all>0\n",
    "#bin_gen = m_gen>0\n",
    "#bin_friend = m_friend > 0"
   ]
  },
  {
   "cell_type": "code",
   "execution_count": null,
   "metadata": {},
   "outputs": [],
   "source": [
    "bin_all"
   ]
  },
  {
   "cell_type": "code",
   "execution_count": null,
   "metadata": {},
   "outputs": [],
   "source": [
    "# Flatten the arrays\n",
    "vec_all = [item for sublist in bin_all.values for item in sublist]\n",
    "vec_gen = [item for sublist in bin_gen.values for item in sublist]\n",
    "vec_friend = [item for sublist in bin_friend.values for item in sublist]"
   ]
  },
  {
   "cell_type": "code",
   "execution_count": null,
   "metadata": {},
   "outputs": [],
   "source": [
    "spatial.distance.hamming(vec_all, vec_gen)"
   ]
  },
  {
   "cell_type": "code",
   "execution_count": null,
   "metadata": {},
   "outputs": [],
   "source": [
    "spatial.distance.hamming(vec_all, vec_friend)"
   ]
  },
  {
   "cell_type": "code",
   "execution_count": null,
   "metadata": {},
   "outputs": [],
   "source": [
    "spatial.distance.hamming(vec_friend, vec_gen)"
   ]
  },
  {
   "cell_type": "code",
   "execution_count": null,
   "metadata": {},
   "outputs": [],
   "source": [
    "# Density (953*953 is the squared matrix)\n",
    "sum(vec_friend)/(953*953) %len(vec_friend)"
   ]
  },
  {
   "cell_type": "code",
   "execution_count": null,
   "metadata": {},
   "outputs": [],
   "source": [
    "sum(vec_gen)/(953*953)%len(vec_gen)"
   ]
  },
  {
   "cell_type": "code",
   "execution_count": null,
   "metadata": {},
   "outputs": [],
   "source": [
    "sum(vec_all)/(953*953)%len(vec_all)"
   ]
  },
  {
   "cell_type": "code",
   "execution_count": null,
   "metadata": {},
   "outputs": [],
   "source": [
    "stats.pearsonr(vec_all, vec_friend)"
   ]
  },
  {
   "cell_type": "code",
   "execution_count": null,
   "metadata": {},
   "outputs": [],
   "source": [
    "stats.pearsonr(vec_all, vec_gen)"
   ]
  },
  {
   "cell_type": "code",
   "execution_count": null,
   "metadata": {},
   "outputs": [],
   "source": [
    "stats.pearsonr(vec_gen, vec_friend)"
   ]
  },
  {
   "cell_type": "markdown",
   "metadata": {},
   "source": [
    "# Trial of MR-QAP\n",
    "\n",
    "https://www.slideshare.net/frbkrm/mrqap-tutorial-for-newbies"
   ]
  },
  {
   "cell_type": "code",
   "execution_count": null,
   "metadata": {},
   "outputs": [],
   "source": [
    "len(G_all.edges())"
   ]
  },
  {
   "cell_type": "code",
   "execution_count": null,
   "metadata": {},
   "outputs": [],
   "source": [
    "sum(vec_all)"
   ]
  },
  {
   "cell_type": "markdown",
   "metadata": {},
   "source": [
    "# Converting graph to numpy"
   ]
  },
  {
   "cell_type": "code",
   "execution_count": null,
   "metadata": {},
   "outputs": [],
   "source": [
    "nx.convert_matrix.to_numpy_matrix(G_all)"
   ]
  },
  {
   "cell_type": "code",
   "execution_count": null,
   "metadata": {},
   "outputs": [],
   "source": [
    "list(nx.strongly_connected_component_subgraphs(G_all))"
   ]
  },
  {
   "cell_type": "code",
   "execution_count": null,
   "metadata": {},
   "outputs": [],
   "source": [
    "G_all.nodes(data=True)"
   ]
  },
  {
   "cell_type": "code",
   "execution_count": null,
   "metadata": {},
   "outputs": [],
   "source": []
  }
 ],
 "metadata": {
  "kernelspec": {
   "display_name": "Python 3",
   "language": "python",
   "name": "python3"
  },
  "language_info": {
   "codemirror_mode": {
    "name": "ipython",
    "version": 3
   },
   "file_extension": ".py",
   "mimetype": "text/x-python",
   "name": "python",
   "nbconvert_exporter": "python",
   "pygments_lexer": "ipython3",
   "version": "3.6.3"
  }
 },
 "nbformat": 4,
 "nbformat_minor": 2
}
